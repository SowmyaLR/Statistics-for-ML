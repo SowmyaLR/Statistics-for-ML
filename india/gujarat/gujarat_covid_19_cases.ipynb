{
  "nbformat": 4,
  "nbformat_minor": 0,
  "metadata": {
    "colab": {
      "name": "gujarat_covid_19_cases.ipynb",
      "provenance": [],
      "authorship_tag": "ABX9TyMIWWOPv8fthfLjpE9QiL0H",
      "include_colab_link": true
    },
    "kernelspec": {
      "name": "python3",
      "display_name": "Python 3"
    }
  },
  "cells": [
    {
      "cell_type": "markdown",
      "metadata": {
        "id": "view-in-github",
        "colab_type": "text"
      },
      "source": [
        "<a href=\"https://colab.research.google.com/github/SowmyaLR/Statistics-for-ML/blob/pandemic-visualization/india/gujarat/gujarat_covid_19_cases.ipynb\" target=\"_parent\"><img src=\"https://colab.research.google.com/assets/colab-badge.svg\" alt=\"Open In Colab\"/></a>"
      ]
    },
    {
      "cell_type": "code",
      "metadata": {
        "id": "leOJUNcxzVXE",
        "colab_type": "code",
        "colab": {
          "base_uri": "https://localhost:8080/",
          "height": 71
        },
        "outputId": "6be3c567-b1ec-4e72-8a48-d1dd3512baa3"
      },
      "source": [
        "import pandas as pd\n",
        "import matplotlib.pyplot as plt\n",
        "import seaborn as sns"
      ],
      "execution_count": 1,
      "outputs": [
        {
          "output_type": "stream",
          "text": [
            "/usr/local/lib/python3.6/dist-packages/statsmodels/tools/_testing.py:19: FutureWarning: pandas.util.testing is deprecated. Use the functions in the public API at pandas.testing instead.\n",
            "  import pandas.util.testing as tm\n"
          ],
          "name": "stderr"
        }
      ]
    },
    {
      "cell_type": "markdown",
      "metadata": {
        "id": "64iwmg5W26lr",
        "colab_type": "text"
      },
      "source": [
        "read_html reads html tables into list of dataframe objects"
      ]
    },
    {
      "cell_type": "code",
      "metadata": {
        "id": "nvCWTy7a2lWK",
        "colab_type": "code",
        "colab": {}
      },
      "source": [
        "url = 'https://www.mohfw.gov.in/'\n",
        "state_wise_df = pd.read_html(url)\n",
        "state_wise_df = state_wise_df[0][:33]"
      ],
      "execution_count": 0,
      "outputs": []
    },
    {
      "cell_type": "code",
      "metadata": {
        "id": "shWfH-vG390A",
        "colab_type": "code",
        "colab": {
          "base_uri": "https://localhost:8080/",
          "height": 221
        },
        "outputId": "a4e35f7d-c203-4e17-a457-944018138cd6"
      },
      "source": [
        "state_wise_df.info()"
      ],
      "execution_count": 3,
      "outputs": [
        {
          "output_type": "stream",
          "text": [
            "<class 'pandas.core.frame.DataFrame'>\n",
            "RangeIndex: 33 entries, 0 to 32\n",
            "Data columns (total 5 columns):\n",
            " #   Column                     Non-Null Count  Dtype \n",
            "---  ------                     --------------  ----- \n",
            " 0   S. No.                     33 non-null     object\n",
            " 1   Name of State / UT         33 non-null     object\n",
            " 2   Total Confirmed cases*     33 non-null     object\n",
            " 3   Cured/Discharged/Migrated  33 non-null     object\n",
            " 4   Deaths**                   33 non-null     object\n",
            "dtypes: object(5)\n",
            "memory usage: 1.4+ KB\n"
          ],
          "name": "stdout"
        }
      ]
    },
    {
      "cell_type": "markdown",
      "metadata": {
        "id": "OBuK_zN24mA6",
        "colab_type": "text"
      },
      "source": [
        "Need to convert columns \"Total Confirmed cases*\" , \"Cured/Discharged/Migrated\", \"Deaths**\" to int dtype for further computation"
      ]
    },
    {
      "cell_type": "code",
      "metadata": {
        "id": "TYYmbYXx4AbW",
        "colab_type": "code",
        "colab": {}
      },
      "source": [
        "state_wise_df['Total Confirmed cases*'] = pd.to_numeric(state_wise_df['Total Confirmed cases*'])\n",
        "state_wise_df['Cured/Discharged/Migrated'] = pd.to_numeric(state_wise_df['Cured/Discharged/Migrated'])\n",
        "state_wise_df['Deaths**'] = pd.to_numeric(state_wise_df['Deaths**'])"
      ],
      "execution_count": 0,
      "outputs": []
    },
    {
      "cell_type": "code",
      "metadata": {
        "id": "4sv4_99i5Gfl",
        "colab_type": "code",
        "colab": {
          "base_uri": "https://localhost:8080/",
          "height": 221
        },
        "outputId": "82f1b27d-2404-459e-dfb9-6d0bfb501bc0"
      },
      "source": [
        "state_wise_df.info()"
      ],
      "execution_count": 5,
      "outputs": [
        {
          "output_type": "stream",
          "text": [
            "<class 'pandas.core.frame.DataFrame'>\n",
            "RangeIndex: 33 entries, 0 to 32\n",
            "Data columns (total 5 columns):\n",
            " #   Column                     Non-Null Count  Dtype \n",
            "---  ------                     --------------  ----- \n",
            " 0   S. No.                     33 non-null     object\n",
            " 1   Name of State / UT         33 non-null     object\n",
            " 2   Total Confirmed cases*     33 non-null     int64 \n",
            " 3   Cured/Discharged/Migrated  33 non-null     int64 \n",
            " 4   Deaths**                   33 non-null     int64 \n",
            "dtypes: int64(3), object(2)\n",
            "memory usage: 1.4+ KB\n"
          ],
          "name": "stdout"
        }
      ]
    },
    {
      "cell_type": "code",
      "metadata": {
        "id": "R8tfoHAN3CHU",
        "colab_type": "code",
        "colab": {
          "base_uri": "https://localhost:8080/",
          "height": 204
        },
        "outputId": "fb2ef10b-1e91-4605-dd43-ed45450dfb04"
      },
      "source": [
        "state_wise_df.sort_values(by='Total Confirmed cases*', ascending=False, inplace=True)\n",
        "state_wise_df.head()"
      ],
      "execution_count": 6,
      "outputs": [
        {
          "output_type": "execute_result",
          "data": {
            "text/html": [
              "<div>\n",
              "<style scoped>\n",
              "    .dataframe tbody tr th:only-of-type {\n",
              "        vertical-align: middle;\n",
              "    }\n",
              "\n",
              "    .dataframe tbody tr th {\n",
              "        vertical-align: top;\n",
              "    }\n",
              "\n",
              "    .dataframe thead th {\n",
              "        text-align: right;\n",
              "    }\n",
              "</style>\n",
              "<table border=\"1\" class=\"dataframe\">\n",
              "  <thead>\n",
              "    <tr style=\"text-align: right;\">\n",
              "      <th></th>\n",
              "      <th>S. No.</th>\n",
              "      <th>Name of State / UT</th>\n",
              "      <th>Total Confirmed cases*</th>\n",
              "      <th>Cured/Discharged/Migrated</th>\n",
              "      <th>Deaths**</th>\n",
              "    </tr>\n",
              "  </thead>\n",
              "  <tbody>\n",
              "    <tr>\n",
              "      <th>19</th>\n",
              "      <td>20</td>\n",
              "      <td>Maharashtra</td>\n",
              "      <td>29100</td>\n",
              "      <td>6564</td>\n",
              "      <td>1068</td>\n",
              "    </tr>\n",
              "    <tr>\n",
              "      <th>27</th>\n",
              "      <td>28</td>\n",
              "      <td>Tamil Nadu</td>\n",
              "      <td>10108</td>\n",
              "      <td>2599</td>\n",
              "      <td>71</td>\n",
              "    </tr>\n",
              "    <tr>\n",
              "      <th>10</th>\n",
              "      <td>11</td>\n",
              "      <td>Gujarat</td>\n",
              "      <td>9931</td>\n",
              "      <td>4035</td>\n",
              "      <td>606</td>\n",
              "    </tr>\n",
              "    <tr>\n",
              "      <th>8</th>\n",
              "      <td>9</td>\n",
              "      <td>Delhi</td>\n",
              "      <td>8895</td>\n",
              "      <td>3518</td>\n",
              "      <td>123</td>\n",
              "    </tr>\n",
              "    <tr>\n",
              "      <th>26</th>\n",
              "      <td>27</td>\n",
              "      <td>Rajasthan</td>\n",
              "      <td>4727</td>\n",
              "      <td>2677</td>\n",
              "      <td>125</td>\n",
              "    </tr>\n",
              "  </tbody>\n",
              "</table>\n",
              "</div>"
            ],
            "text/plain": [
              "   S. No. Name of State / UT  ...  Cured/Discharged/Migrated  Deaths**\n",
              "19     20        Maharashtra  ...                       6564      1068\n",
              "27     28         Tamil Nadu  ...                       2599        71\n",
              "10     11            Gujarat  ...                       4035       606\n",
              "8       9              Delhi  ...                       3518       123\n",
              "26     27          Rajasthan  ...                       2677       125\n",
              "\n",
              "[5 rows x 5 columns]"
            ]
          },
          "metadata": {
            "tags": []
          },
          "execution_count": 6
        }
      ]
    },
    {
      "cell_type": "code",
      "metadata": {
        "id": "_bL5zjVv7ADJ",
        "colab_type": "code",
        "colab": {
          "base_uri": "https://localhost:8080/",
          "height": 68
        },
        "outputId": "3cd6cc5a-af95-412c-d923-0b11973f57f2"
      },
      "source": [
        "state_wise_df.columns\n"
      ],
      "execution_count": 7,
      "outputs": [
        {
          "output_type": "execute_result",
          "data": {
            "text/plain": [
              "Index(['S. No.', 'Name of State / UT', 'Total Confirmed cases*',\n",
              "       'Cured/Discharged/Migrated', 'Deaths**'],\n",
              "      dtype='object')"
            ]
          },
          "metadata": {
            "tags": []
          },
          "execution_count": 7
        }
      ]
    },
    {
      "cell_type": "code",
      "metadata": {
        "id": "_ozQh15u6qH9",
        "colab_type": "code",
        "colab": {
          "base_uri": "https://localhost:8080/",
          "height": 1000
        },
        "outputId": "2aefe053-5ed0-48b5-cd13-3f28cb188673"
      },
      "source": [
        "plt.figure(figsize=(10,8))\n",
        "ax = sns.barplot(x='Name of State / UT', y='Total Confirmed cases*', data=state_wise_df)\n",
        "ax.set_xticklabels(ax.get_xticklabels(), rotation=90, ha=\"right\")"
      ],
      "execution_count": 8,
      "outputs": [
        {
          "output_type": "execute_result",
          "data": {
            "text/plain": [
              "[Text(0, 0, 'Maharashtra'),\n",
              " Text(0, 0, 'Tamil Nadu'),\n",
              " Text(0, 0, 'Gujarat'),\n",
              " Text(0, 0, 'Delhi'),\n",
              " Text(0, 0, 'Rajasthan'),\n",
              " Text(0, 0, 'Madhya Pradesh'),\n",
              " Text(0, 0, 'Uttar Pradesh'),\n",
              " Text(0, 0, 'West Bengal'),\n",
              " Text(0, 0, 'Andhra Pradesh'),\n",
              " Text(0, 0, 'Punjab'),\n",
              " Text(0, 0, 'Telengana'),\n",
              " Text(0, 0, 'Karnataka'),\n",
              " Text(0, 0, 'Bihar'),\n",
              " Text(0, 0, 'Jammu and Kashmir'),\n",
              " Text(0, 0, 'Haryana'),\n",
              " Text(0, 0, 'Odisha'),\n",
              " Text(0, 0, 'Kerala'),\n",
              " Text(0, 0, 'Jharkhand'),\n",
              " Text(0, 0, 'Chandigarh'),\n",
              " Text(0, 0, 'Tripura'),\n",
              " Text(0, 0, 'Assam'),\n",
              " Text(0, 0, 'Uttarakhand'),\n",
              " Text(0, 0, 'Himachal Pradesh'),\n",
              " Text(0, 0, 'Chhattisgarh'),\n",
              " Text(0, 0, 'Ladakh'),\n",
              " Text(0, 0, 'Andaman and Nicobar Islands'),\n",
              " Text(0, 0, 'Goa'),\n",
              " Text(0, 0, 'Meghalaya'),\n",
              " Text(0, 0, 'Puducherry'),\n",
              " Text(0, 0, 'Manipur'),\n",
              " Text(0, 0, 'Mizoram'),\n",
              " Text(0, 0, 'Dadar Nagar Haveli'),\n",
              " Text(0, 0, 'Arunachal Pradesh')]"
            ]
          },
          "metadata": {
            "tags": []
          },
          "execution_count": 8
        },
        {
          "output_type": "display_data",
          "data": {
            "image/png": "[encoded data removed]",
            "text/plain": [
              "<Figure size 720x576 with 1 Axes>"
            ]
          },
          "metadata": {
            "tags": [],
            "needs_background": "light"
          }
        }
      ]
    },
    {
      "cell_type": "markdown",
      "metadata": {
        "id": "6ZJ6qc_20bZF",
        "colab_type": "text"
      },
      "source": [
        "dataset source: [kaggle](https://www.kaggle.com/pateldeep7799/covid19-cases-in-gujaratindia?select=DistrictWiseReport.csv)"
      ]
    },
    {
      "cell_type": "code",
      "metadata": {
        "id": "ZotUqn14VQ-g",
        "colab_type": "code",
        "colab": {
          "base_uri": "https://localhost:8080/",
          "height": 204
        },
        "outputId": "ab673e55-ec03-479e-ec02-3655504865de"
      },
      "source": [
        "!wget -O 'gujarat_dataset.csv' https://raw.githubusercontent.com/SowmyaLR/Statistics-for-ML/pandemic-visualization/india/gujarat/gujarat_dataset.csv"
      ],
      "execution_count": 9,
      "outputs": [
        {
          "output_type": "stream",
          "text": [
            "--2020-05-16 22:07:01--  https://raw.githubusercontent.com/SowmyaLR/Statistics-for-ML/pandemic-visualization/india/gujarat/gujarat_dataset.csv\n",
            "Resolving raw.githubusercontent.com (raw.githubusercontent.com)... 151.101.0.133, 151.101.64.133, 151.101.128.133, ...\n",
            "Connecting to raw.githubusercontent.com (raw.githubusercontent.com)|151.101.0.133|:443... connected.\n",
            "HTTP request sent, awaiting response... 200 OK\n",
            "Length: 1121 (1.1K) [text/plain]\n",
            "Saving to: ‘gujarat_dataset.csv’\n",
            "\n",
            "\rgujarat_dataset.csv   0%[                    ]       0  --.-KB/s               \rgujarat_dataset.csv 100%[===================>]   1.09K  --.-KB/s    in 0s      \n",
            "\n",
            "2020-05-16 22:07:01 (54.3 MB/s) - ‘gujarat_dataset.csv’ saved [1121/1121]\n",
            "\n"
          ],
          "name": "stdout"
        }
      ]
    },
    {
      "cell_type": "code",
      "metadata": {
        "id": "Ogvwdsz61NAg",
        "colab_type": "code",
        "colab": {}
      },
      "source": [
        "gujarat_covid_df = pd.read_csv('gujarat_dataset.csv')"
      ],
      "execution_count": 0,
      "outputs": []
    },
    {
      "cell_type": "code",
      "metadata": {
        "id": "VnYj1sOW1ddN",
        "colab_type": "code",
        "colab": {
          "base_uri": "https://localhost:8080/",
          "height": 297
        },
        "outputId": "e625532b-2f58-4bfa-c3e0-2f8f40cc8987"
      },
      "source": [
        "gujarat_covid_df.describe()"
      ],
      "execution_count": 11,
      "outputs": [
        {
          "output_type": "execute_result",
          "data": {
            "text/html": [
              "<div>\n",
              "<style scoped>\n",
              "    .dataframe tbody tr th:only-of-type {\n",
              "        vertical-align: middle;\n",
              "    }\n",
              "\n",
              "    .dataframe tbody tr th {\n",
              "        vertical-align: top;\n",
              "    }\n",
              "\n",
              "    .dataframe thead th {\n",
              "        text-align: right;\n",
              "    }\n",
              "</style>\n",
              "<table border=\"1\" class=\"dataframe\">\n",
              "  <thead>\n",
              "    <tr style=\"text-align: right;\">\n",
              "      <th></th>\n",
              "      <th>Sr No</th>\n",
              "      <th>Confirmed Positive Cases</th>\n",
              "      <th>Cases Tested for COVID19</th>\n",
              "      <th>Patients Recovered</th>\n",
              "      <th>People Under Quarantine</th>\n",
              "      <th>Total Deaths</th>\n",
              "    </tr>\n",
              "  </thead>\n",
              "  <tbody>\n",
              "    <tr>\n",
              "      <th>count</th>\n",
              "      <td>33.00000</td>\n",
              "      <td>33.000000</td>\n",
              "      <td>33.000000</td>\n",
              "      <td>33.000000</td>\n",
              "      <td>33.000000</td>\n",
              "      <td>33.000000</td>\n",
              "    </tr>\n",
              "    <tr>\n",
              "      <th>mean</th>\n",
              "      <td>17.00000</td>\n",
              "      <td>290.636364</td>\n",
              "      <td>3779.030303</td>\n",
              "      <td>113.727273</td>\n",
              "      <td>7359.575758</td>\n",
              "      <td>17.757576</td>\n",
              "    </tr>\n",
              "    <tr>\n",
              "      <th>std</th>\n",
              "      <td>9.66954</td>\n",
              "      <td>1203.782627</td>\n",
              "      <td>9412.489753</td>\n",
              "      <td>399.442054</td>\n",
              "      <td>10138.993216</td>\n",
              "      <td>80.808427</td>\n",
              "    </tr>\n",
              "    <tr>\n",
              "      <th>min</th>\n",
              "      <td>1.00000</td>\n",
              "      <td>1.000000</td>\n",
              "      <td>344.000000</td>\n",
              "      <td>0.000000</td>\n",
              "      <td>19.000000</td>\n",
              "      <td>0.000000</td>\n",
              "    </tr>\n",
              "    <tr>\n",
              "      <th>25%</th>\n",
              "      <td>9.00000</td>\n",
              "      <td>8.000000</td>\n",
              "      <td>760.000000</td>\n",
              "      <td>3.000000</td>\n",
              "      <td>1777.000000</td>\n",
              "      <td>0.000000</td>\n",
              "    </tr>\n",
              "    <tr>\n",
              "      <th>50%</th>\n",
              "      <td>17.00000</td>\n",
              "      <td>32.000000</td>\n",
              "      <td>1291.000000</td>\n",
              "      <td>14.000000</td>\n",
              "      <td>3903.000000</td>\n",
              "      <td>1.000000</td>\n",
              "    </tr>\n",
              "    <tr>\n",
              "      <th>75%</th>\n",
              "      <td>25.00000</td>\n",
              "      <td>73.000000</td>\n",
              "      <td>1731.000000</td>\n",
              "      <td>37.000000</td>\n",
              "      <td>7335.000000</td>\n",
              "      <td>2.000000</td>\n",
              "    </tr>\n",
              "    <tr>\n",
              "      <th>max</th>\n",
              "      <td>33.00000</td>\n",
              "      <td>6910.000000</td>\n",
              "      <td>51232.000000</td>\n",
              "      <td>2247.000000</td>\n",
              "      <td>44187.000000</td>\n",
              "      <td>465.000000</td>\n",
              "    </tr>\n",
              "  </tbody>\n",
              "</table>\n",
              "</div>"
            ],
            "text/plain": [
              "          Sr No  ...  Total Deaths\n",
              "count  33.00000  ...     33.000000\n",
              "mean   17.00000  ...     17.757576\n",
              "std     9.66954  ...     80.808427\n",
              "min     1.00000  ...      0.000000\n",
              "25%     9.00000  ...      0.000000\n",
              "50%    17.00000  ...      1.000000\n",
              "75%    25.00000  ...      2.000000\n",
              "max    33.00000  ...    465.000000\n",
              "\n",
              "[8 rows x 6 columns]"
            ]
          },
          "metadata": {
            "tags": []
          },
          "execution_count": 11
        }
      ]
    },
    {
      "cell_type": "code",
      "metadata": {
        "id": "hgmqY4402JDy",
        "colab_type": "code",
        "colab": {
          "base_uri": "https://localhost:8080/",
          "height": 255
        },
        "outputId": "245c8b1a-cc0b-40b5-af1a-4b3435eaae54"
      },
      "source": [
        "gujarat_covid_df.info()"
      ],
      "execution_count": 12,
      "outputs": [
        {
          "output_type": "stream",
          "text": [
            "<class 'pandas.core.frame.DataFrame'>\n",
            "RangeIndex: 33 entries, 0 to 32\n",
            "Data columns (total 7 columns):\n",
            " #   Column                    Non-Null Count  Dtype \n",
            "---  ------                    --------------  ----- \n",
            " 0   Sr No                     33 non-null     int64 \n",
            " 1   District Name             33 non-null     object\n",
            " 2   Confirmed Positive Cases  33 non-null     int64 \n",
            " 3   Cases Tested for COVID19  33 non-null     int64 \n",
            " 4   Patients Recovered        33 non-null     int64 \n",
            " 5   People Under Quarantine   33 non-null     int64 \n",
            " 6   Total Deaths              33 non-null     int64 \n",
            "dtypes: int64(6), object(1)\n",
            "memory usage: 1.9+ KB\n"
          ],
          "name": "stdout"
        }
      ]
    },
    {
      "cell_type": "code",
      "metadata": {
        "id": "fcdaF5-UCCbm",
        "colab_type": "code",
        "colab": {}
      },
      "source": [
        "sorted_gujarat_covid_df = gujarat_covid_df.sort_values(by='Confirmed Positive Cases',ascending=False).nlargest(5,'Confirmed Positive Cases')"
      ],
      "execution_count": 0,
      "outputs": []
    },
    {
      "cell_type": "code",
      "metadata": {
        "id": "soFXCDtf8vPT",
        "colab_type": "code",
        "colab": {
          "base_uri": "https://localhost:8080/",
          "height": 585
        },
        "outputId": "d91f2785-2fdb-45fc-cfdd-116884492f33"
      },
      "source": [
        "plt.subplots(figsize=(10,8))\n",
        "ax = sns.barplot(x='District Name', y='Confirmed Positive Cases', data=sorted_gujarat_covid_df)\n",
        "ax.set_xticklabels(ax.get_xticklabels(), rotation=90, ha=\"right\")\n",
        "ax.set_title('Top 5 cities in Gujarat having positive cases')"
      ],
      "execution_count": 14,
      "outputs": [
        {
          "output_type": "execute_result",
          "data": {
            "text/plain": [
              "Text(0.5, 1.0, 'Top 5 cities in Gujarat having positive cases')"
            ]
          },
          "metadata": {
            "tags": []
          },
          "execution_count": 14
        },
        {
          "output_type": "display_data",
          "data": {
            "image/png": "[encoded data removed]",
            "text/plain": [
              "<Figure size 720x576 with 1 Axes>"
            ]
          },
          "metadata": {
            "tags": [],
            "needs_background": "light"
          }
        }
      ]
    },
    {
      "cell_type": "code",
      "metadata": {
        "id": "cJ_VyNJc-NH4",
        "colab_type": "code",
        "colab": {}
      },
      "source": [
        "pouplation_url = 'https://en.wikipedia.org/wiki/List_of_cities_in_Gujarat_by_population'\n",
        "gujarat_population_df = pd.read_html(pouplation_url)\n",
        "gujarat_population_df = gujarat_population_df[0]"
      ],
      "execution_count": 0,
      "outputs": []
    },
    {
      "cell_type": "code",
      "metadata": {
        "id": "vUSbA-n2-qDF",
        "colab_type": "code",
        "colab": {
          "base_uri": "https://localhost:8080/",
          "height": 297
        },
        "outputId": "3db9b0d1-0cb1-4d94-b248-f763ab84db72"
      },
      "source": [
        "gujarat_population_df.describe()"
      ],
      "execution_count": 16,
      "outputs": [
        {
          "output_type": "execute_result",
          "data": {
            "text/html": [
              "<div>\n",
              "<style scoped>\n",
              "    .dataframe tbody tr th:only-of-type {\n",
              "        vertical-align: middle;\n",
              "    }\n",
              "\n",
              "    .dataframe tbody tr th {\n",
              "        vertical-align: top;\n",
              "    }\n",
              "\n",
              "    .dataframe thead th {\n",
              "        text-align: right;\n",
              "    }\n",
              "</style>\n",
              "<table border=\"1\" class=\"dataframe\">\n",
              "  <thead>\n",
              "    <tr style=\"text-align: right;\">\n",
              "      <th></th>\n",
              "      <th>S.No.</th>\n",
              "      <th>Population (2021) Expected</th>\n",
              "      <th>Population (2019)</th>\n",
              "      <th>Population (2011)</th>\n",
              "      <th>Population (2001)</th>\n",
              "      <th>Population (1991)</th>\n",
              "      <th>Area (2019) (km2)</th>\n",
              "    </tr>\n",
              "  </thead>\n",
              "  <tbody>\n",
              "    <tr>\n",
              "      <th>count</th>\n",
              "      <td>15.000000</td>\n",
              "      <td>1.500000e+01</td>\n",
              "      <td>1.500000e+01</td>\n",
              "      <td>1.500000e+01</td>\n",
              "      <td>1.500000e+01</td>\n",
              "      <td>1.500000e+01</td>\n",
              "      <td>15.000000</td>\n",
              "    </tr>\n",
              "    <tr>\n",
              "      <th>mean</th>\n",
              "      <td>8.000000</td>\n",
              "      <td>1.831908e+06</td>\n",
              "      <td>1.673766e+06</td>\n",
              "      <td>1.178556e+06</td>\n",
              "      <td>8.485485e+05</td>\n",
              "      <td>5.861981e+05</td>\n",
              "      <td>129.110667</td>\n",
              "    </tr>\n",
              "    <tr>\n",
              "      <th>std</th>\n",
              "      <td>4.472136</td>\n",
              "      <td>2.980396e+06</td>\n",
              "      <td>2.721841e+06</td>\n",
              "      <td>1.837109e+06</td>\n",
              "      <td>1.246850e+06</td>\n",
              "      <td>8.599641e+05</td>\n",
              "      <td>145.730343</td>\n",
              "    </tr>\n",
              "    <tr>\n",
              "      <th>min</th>\n",
              "      <td>1.000000</td>\n",
              "      <td>2.435840e+05</td>\n",
              "      <td>2.371380e+05</td>\n",
              "      <td>2.172030e+05</td>\n",
              "      <td>1.516930e+05</td>\n",
              "      <td>1.045850e+05</td>\n",
              "      <td>27.600000</td>\n",
              "    </tr>\n",
              "    <tr>\n",
              "      <th>25%</th>\n",
              "      <td>4.500000</td>\n",
              "      <td>3.372465e+05</td>\n",
              "      <td>3.168285e+05</td>\n",
              "      <td>2.499255e+05</td>\n",
              "      <td>1.970875e+05</td>\n",
              "      <td>1.635685e+05</td>\n",
              "      <td>41.270000</td>\n",
              "    </tr>\n",
              "    <tr>\n",
              "      <th>50%</th>\n",
              "      <td>8.000000</td>\n",
              "      <td>3.852910e+05</td>\n",
              "      <td>3.614170e+05</td>\n",
              "      <td>2.880920e+05</td>\n",
              "      <td>2.324110e+05</td>\n",
              "      <td>1.744800e+05</td>\n",
              "      <td>60.360000</td>\n",
              "    </tr>\n",
              "    <tr>\n",
              "      <th>75%</th>\n",
              "      <td>11.500000</td>\n",
              "      <td>1.636700e+06</td>\n",
              "      <td>1.400860e+06</td>\n",
              "      <td>9.982610e+05</td>\n",
              "      <td>7.799855e+05</td>\n",
              "      <td>5.298575e+05</td>\n",
              "      <td>156.355000</td>\n",
              "    </tr>\n",
              "    <tr>\n",
              "      <th>max</th>\n",
              "      <td>15.000000</td>\n",
              "      <td>1.004614e+07</td>\n",
              "      <td>9.250000e+06</td>\n",
              "      <td>6.357693e+06</td>\n",
              "      <td>4.525013e+06</td>\n",
              "      <td>3.312216e+06</td>\n",
              "      <td>493.290000</td>\n",
              "    </tr>\n",
              "  </tbody>\n",
              "</table>\n",
              "</div>"
            ],
            "text/plain": [
              "           S.No.  ...  Area (2019) (km2)\n",
              "count  15.000000  ...          15.000000\n",
              "mean    8.000000  ...         129.110667\n",
              "std     4.472136  ...         145.730343\n",
              "min     1.000000  ...          27.600000\n",
              "25%     4.500000  ...          41.270000\n",
              "50%     8.000000  ...          60.360000\n",
              "75%    11.500000  ...         156.355000\n",
              "max    15.000000  ...         493.290000\n",
              "\n",
              "[8 rows x 7 columns]"
            ]
          },
          "metadata": {
            "tags": []
          },
          "execution_count": 16
        }
      ]
    },
    {
      "cell_type": "code",
      "metadata": {
        "id": "HDQmIyDX-xzx",
        "colab_type": "code",
        "colab": {
          "base_uri": "https://localhost:8080/",
          "height": 272
        },
        "outputId": "a86e7a4e-6ab2-4131-97d8-7340efc23b50"
      },
      "source": [
        "gujarat_population_df.info()"
      ],
      "execution_count": 17,
      "outputs": [
        {
          "output_type": "stream",
          "text": [
            "<class 'pandas.core.frame.DataFrame'>\n",
            "RangeIndex: 15 entries, 0 to 14\n",
            "Data columns (total 8 columns):\n",
            " #   Column                      Non-Null Count  Dtype  \n",
            "---  ------                      --------------  -----  \n",
            " 0   S.No.                       15 non-null     float64\n",
            " 1   City Name                   15 non-null     object \n",
            " 2   Population (2021) Expected  15 non-null     int64  \n",
            " 3   Population (2019)           15 non-null     int64  \n",
            " 4   Population (2011)           15 non-null     int64  \n",
            " 5   Population (2001)           15 non-null     int64  \n",
            " 6   Population (1991)           15 non-null     int64  \n",
            " 7   Area (2019) (km2)           15 non-null     float64\n",
            "dtypes: float64(2), int64(5), object(1)\n",
            "memory usage: 1.1+ KB\n"
          ],
          "name": "stdout"
        }
      ]
    },
    {
      "cell_type": "code",
      "metadata": {
        "id": "-JYgskqu-1D3",
        "colab_type": "code",
        "colab": {}
      },
      "source": [
        "gujarat_population_df['density_per_km2_2019'] = gujarat_population_df['Population (2019)']/gujarat_population_df['Area (2019) (km2)']"
      ],
      "execution_count": 0,
      "outputs": []
    },
    {
      "cell_type": "code",
      "metadata": {
        "id": "Rn0Wp6no_rsJ",
        "colab_type": "code",
        "colab": {
          "base_uri": "https://localhost:8080/",
          "height": 221
        },
        "outputId": "86154503-37db-4ef7-f103-e8b6f3584790"
      },
      "source": [
        "sorted_population_df = gujarat_population_df.sort_values(by='density_per_km2_2019', ascending=False).nlargest(5,'density_per_km2_2019')\n",
        "sorted_population_df"
      ],
      "execution_count": 19,
      "outputs": [
        {
          "output_type": "execute_result",
          "data": {
            "text/html": [
              "<div>\n",
              "<style scoped>\n",
              "    .dataframe tbody tr th:only-of-type {\n",
              "        vertical-align: middle;\n",
              "    }\n",
              "\n",
              "    .dataframe tbody tr th {\n",
              "        vertical-align: top;\n",
              "    }\n",
              "\n",
              "    .dataframe thead th {\n",
              "        text-align: right;\n",
              "    }\n",
              "</style>\n",
              "<table border=\"1\" class=\"dataframe\">\n",
              "  <thead>\n",
              "    <tr style=\"text-align: right;\">\n",
              "      <th></th>\n",
              "      <th>S.No.</th>\n",
              "      <th>City Name</th>\n",
              "      <th>Population (2021) Expected</th>\n",
              "      <th>Population (2019)</th>\n",
              "      <th>Population (2011)</th>\n",
              "      <th>Population (2001)</th>\n",
              "      <th>Population (1991)</th>\n",
              "      <th>Area (2019) (km2)</th>\n",
              "      <th>density_per_km2_2019</th>\n",
              "    </tr>\n",
              "  </thead>\n",
              "  <tbody>\n",
              "    <tr>\n",
              "      <th>0</th>\n",
              "      <td>1.0</td>\n",
              "      <td>Ahmedabad</td>\n",
              "      <td>10046145</td>\n",
              "      <td>9250000</td>\n",
              "      <td>6357693</td>\n",
              "      <td>4525013</td>\n",
              "      <td>3312216</td>\n",
              "      <td>493.29</td>\n",
              "      <td>18751.647104</td>\n",
              "    </tr>\n",
              "    <tr>\n",
              "      <th>1</th>\n",
              "      <td>2.0</td>\n",
              "      <td>Surat</td>\n",
              "      <td>7567538</td>\n",
              "      <td>6850000</td>\n",
              "      <td>4591246</td>\n",
              "      <td>2811614</td>\n",
              "      <td>1518950</td>\n",
              "      <td>379.77</td>\n",
              "      <td>18037.233062</td>\n",
              "    </tr>\n",
              "    <tr>\n",
              "      <th>8</th>\n",
              "      <td>9.0</td>\n",
              "      <td>Navsari</td>\n",
              "      <td>350674</td>\n",
              "      <td>333777</td>\n",
              "      <td>282791</td>\n",
              "      <td>232411</td>\n",
              "      <td>190946</td>\n",
              "      <td>30.25</td>\n",
              "      <td>11033.950413</td>\n",
              "    </tr>\n",
              "    <tr>\n",
              "      <th>4</th>\n",
              "      <td>5.0</td>\n",
              "      <td>Bhavnagar</td>\n",
              "      <td>816845</td>\n",
              "      <td>771719</td>\n",
              "      <td>605882</td>\n",
              "      <td>517708</td>\n",
              "      <td>405225</td>\n",
              "      <td>71.36</td>\n",
              "      <td>10814.447870</td>\n",
              "    </tr>\n",
              "    <tr>\n",
              "      <th>12</th>\n",
              "      <td>13.0</td>\n",
              "      <td>Surendranagar</td>\n",
              "      <td>298692</td>\n",
              "      <td>287093</td>\n",
              "      <td>253606</td>\n",
              "      <td>219585</td>\n",
              "      <td>166466</td>\n",
              "      <td>27.60</td>\n",
              "      <td>10401.920290</td>\n",
              "    </tr>\n",
              "  </tbody>\n",
              "</table>\n",
              "</div>"
            ],
            "text/plain": [
              "    S.No.      City Name  ...  Area (2019) (km2)  density_per_km2_2019\n",
              "0     1.0      Ahmedabad  ...             493.29          18751.647104\n",
              "1     2.0          Surat  ...             379.77          18037.233062\n",
              "8     9.0        Navsari  ...              30.25          11033.950413\n",
              "4     5.0      Bhavnagar  ...              71.36          10814.447870\n",
              "12   13.0  Surendranagar  ...              27.60          10401.920290\n",
              "\n",
              "[5 rows x 9 columns]"
            ]
          },
          "metadata": {
            "tags": []
          },
          "execution_count": 19
        }
      ]
    },
    {
      "cell_type": "code",
      "metadata": {
        "id": "IG0d66RWCxJS",
        "colab_type": "code",
        "colab": {
          "base_uri": "https://localhost:8080/",
          "height": 595
        },
        "outputId": "b8e2ad32-5f89-4ef4-de8c-4a7dce0fe2dd"
      },
      "source": [
        "plt.subplots(figsize=(10,8))\n",
        "ax1 = sns.barplot(x='City Name', y='density_per_km2_2019', data=sorted_population_df)\n",
        "ax1.set_xticklabels(ax1.get_xticklabels(), rotation=90, ha=\"right\")\n",
        "ax1.set_title(\"Gujarat's population density per km2 as of 2019\")"
      ],
      "execution_count": 21,
      "outputs": [
        {
          "output_type": "execute_result",
          "data": {
            "text/plain": [
              "Text(0.5, 1.0, \"Gujarat's population density per km2 as of 2019\")"
            ]
          },
          "metadata": {
            "tags": []
          },
          "execution_count": 21
        },
        {
          "output_type": "display_data",
          "data": {
            "image/png": "[encoded data removed]",
            "text/plain": [
              "<Figure size 720x576 with 1 Axes>"
            ]
          },
          "metadata": {
            "tags": [],
            "needs_background": "light"
          }
        }
      ]
    }
  ]
}