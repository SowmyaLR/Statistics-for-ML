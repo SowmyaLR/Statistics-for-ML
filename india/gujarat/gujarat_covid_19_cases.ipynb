{
  "nbformat": 4,
  "nbformat_minor": 0,
  "metadata": {
    "colab": {
      "name": "gujarat_covid_19_cases.ipynb",
      "provenance": [],
      "authorship_tag": "ABX9TyMDvVEJT1gLy38Qk+SYjXWl",
      "include_colab_link": true
    },
    "kernelspec": {
      "name": "python3",
      "display_name": "Python 3"
    }
  },
  "cells": [
    {
      "cell_type": "markdown",
      "metadata": {
        "id": "view-in-github",
        "colab_type": "text"
      },
      "source": [
        "<a href=\"https://colab.research.google.com/github/SowmyaLR/Statistics-for-ML/blob/pandemic-visualization/india/gujarat/gujarat_covid_19_cases.ipynb\" target=\"_parent\"><img src=\"https://colab.research.google.com/assets/colab-badge.svg\" alt=\"Open In Colab\"/></a>"
      ]
    },
    {
      "cell_type": "code",
      "metadata": {
        "id": "leOJUNcxzVXE",
        "colab_type": "code",
        "colab": {}
      },
      "source": [
        "import pandas as pd\n",
        "import matplotlib.pyplot as plt\n",
        "import seaborn as sns"
      ],
      "execution_count": 0,
      "outputs": []
    },
    {
      "cell_type": "markdown",
      "metadata": {
        "id": "64iwmg5W26lr",
        "colab_type": "text"
      },
      "source": [
        "read_html reads html tables into list of dataframe objects"
      ]
    },
    {
      "cell_type": "code",
      "metadata": {
        "id": "nvCWTy7a2lWK",
        "colab_type": "code",
        "colab": {}
      },
      "source": [
        "url = 'https://www.mohfw.gov.in/'\n",
        "state_wise_df = pd.read_html(url)\n",
        "state_wise_df = state_wise_df[0][:33]"
      ],
      "execution_count": 0,
      "outputs": []
    },
    {
      "cell_type": "code",
      "metadata": {
        "id": "shWfH-vG390A",
        "colab_type": "code",
        "colab": {}
      },
      "source": [
        "state_wise_df.info()"
      ],
      "execution_count": 0,
      "outputs": []
    },
    {
      "cell_type": "markdown",
      "metadata": {
        "id": "OBuK_zN24mA6",
        "colab_type": "text"
      },
      "source": [
        "Need to convert columns \"Total Confirmed cases*\" , \"Cured/Discharged/Migrated\", \"Deaths**\" to int dtype for further computation"
      ]
    },
    {
      "cell_type": "code",
      "metadata": {
        "id": "TYYmbYXx4AbW",
        "colab_type": "code",
        "colab": {}
      },
      "source": [
        "state_wise_df['Total Confirmed cases*'] = pd.to_numeric(state_wise_df['Total Confirmed cases*'])\n",
        "state_wise_df['Cured/Discharged/Migrated'] = pd.to_numeric(state_wise_df['Cured/Discharged/Migrated'])\n",
        "state_wise_df['Deaths**'] = pd.to_numeric(state_wise_df['Deaths**'])"
      ],
      "execution_count": 0,
      "outputs": []
    },
    {
      "cell_type": "code",
      "metadata": {
        "id": "4sv4_99i5Gfl",
        "colab_type": "code",
        "colab": {}
      },
      "source": [
        "state_wise_df.info()"
      ],
      "execution_count": 0,
      "outputs": []
    },
    {
      "cell_type": "code",
      "metadata": {
        "id": "R8tfoHAN3CHU",
        "colab_type": "code",
        "colab": {}
      },
      "source": [
        "state_wise_df.sort_values(by='Total Confirmed cases*', ascending=False, inplace=True)\n",
        "state_wise_df.head()"
      ],
      "execution_count": 0,
      "outputs": []
    },
    {
      "cell_type": "code",
      "metadata": {
        "id": "_bL5zjVv7ADJ",
        "colab_type": "code",
        "colab": {}
      },
      "source": [
        "state_wise_df.columns\n"
      ],
      "execution_count": 0,
      "outputs": []
    },
    {
      "cell_type": "code",
      "metadata": {
        "id": "_ozQh15u6qH9",
        "colab_type": "code",
        "colab": {}
      },
      "source": [
        "plt.figure(figsize=(10,8))\n",
        "ax = sns.barplot(x='Name of State / UT', y='Total Confirmed cases*', data=state_wise_df)\n",
        "ax.set_xticklabels(ax.get_xticklabels(), rotation=90, ha=\"right\")"
      ],
      "execution_count": 0,
      "outputs": []
    },
    {
      "cell_type": "markdown",
      "metadata": {
        "id": "6ZJ6qc_20bZF",
        "colab_type": "text"
      },
      "source": [
        "dataset source: [kaggle](https://www.kaggle.com/pateldeep7799/covid19-cases-in-gujaratindia?select=DistrictWiseReport.csv)"
      ]
    },
    {
      "cell_type": "code",
      "metadata": {
        "id": "ZotUqn14VQ-g",
        "colab_type": "code",
        "colab": {}
      },
      "source": [
        "!wget -O 'gujarat_dataset.csv' https://raw.githubusercontent.com/SowmyaLR/Statistics-for-ML/pandemic-visualization/india/gujarat/gujarat_dataset.csv"
      ],
      "execution_count": 0,
      "outputs": []
    },
    {
      "cell_type": "code",
      "metadata": {
        "id": "Ogvwdsz61NAg",
        "colab_type": "code",
        "colab": {}
      },
      "source": [
        "gujarat_covid_df = pd.read_csv('gujarat_dataset.csv')"
      ],
      "execution_count": 0,
      "outputs": []
    },
    {
      "cell_type": "code",
      "metadata": {
        "id": "VnYj1sOW1ddN",
        "colab_type": "code",
        "colab": {}
      },
      "source": [
        "gujarat_covid_df.describe()"
      ],
      "execution_count": 0,
      "outputs": []
    },
    {
      "cell_type": "code",
      "metadata": {
        "id": "hgmqY4402JDy",
        "colab_type": "code",
        "colab": {}
      },
      "source": [
        "gujarat_covid_df.info()"
      ],
      "execution_count": 0,
      "outputs": []
    },
    {
      "cell_type": "code",
      "metadata": {
        "id": "fcdaF5-UCCbm",
        "colab_type": "code",
        "colab": {}
      },
      "source": [
        "sorted_gujarat_covid_df = gujarat_covid_df.sort_values(by='Confirmed Positive Cases',ascending=False).nlargest(5,'Confirmed Positive Cases')"
      ],
      "execution_count": 0,
      "outputs": []
    },
    {
      "cell_type": "code",
      "metadata": {
        "id": "soFXCDtf8vPT",
        "colab_type": "code",
        "colab": {}
      },
      "source": [
        "plt.subplots(figsize=(10,8))\n",
        "ax = sns.barplot(x='District Name', y='Confirmed Positive Cases', data=sorted_gujarat_covid_df)\n",
        "ax.set_xticklabels(ax.get_xticklabels(), rotation=90, ha=\"right\")\n",
        "ax.set_title('Top 5 cities in Gujarat having positive cases')"
      ],
      "execution_count": 0,
      "outputs": []
    },
    {
      "cell_type": "code",
      "metadata": {
        "id": "cJ_VyNJc-NH4",
        "colab_type": "code",
        "colab": {}
      },
      "source": [
        "pouplation_url = 'https://en.wikipedia.org/wiki/List_of_cities_in_Gujarat_by_population'\n",
        "gujarat_population_df = pd.read_html(pouplation_url)\n",
        "gujarat_population_df = gujarat_population_df[0]"
      ],
      "execution_count": 0,
      "outputs": []
    },
    {
      "cell_type": "code",
      "metadata": {
        "id": "vUSbA-n2-qDF",
        "colab_type": "code",
        "colab": {}
      },
      "source": [
        "gujarat_population_df.describe()"
      ],
      "execution_count": 0,
      "outputs": []
    },
    {
      "cell_type": "code",
      "metadata": {
        "id": "HDQmIyDX-xzx",
        "colab_type": "code",
        "colab": {}
      },
      "source": [
        "gujarat_population_df.info()"
      ],
      "execution_count": 0,
      "outputs": []
    },
    {
      "cell_type": "code",
      "metadata": {
        "id": "-JYgskqu-1D3",
        "colab_type": "code",
        "colab": {}
      },
      "source": [
        "gujarat_population_df['density_per_km2_2019'] = gujarat_population_df['Population (2019)']/gujarat_population_df['Area (2019) (km2)']"
      ],
      "execution_count": 0,
      "outputs": []
    },
    {
      "cell_type": "code",
      "metadata": {
        "id": "Rn0Wp6no_rsJ",
        "colab_type": "code",
        "colab": {}
      },
      "source": [
        "sorted_population_df = gujarat_population_df.sort_values(by='density_per_km2_2019', ascending=False).nlargest(5,'density_per_km2_2019')\n",
        "sorted_population_df"
      ],
      "execution_count": 0,
      "outputs": []
    },
    {
      "cell_type": "code",
      "metadata": {
        "id": "IG0d66RWCxJS",
        "colab_type": "code",
        "colab": {}
      },
      "source": [
        "plt.subplots(figsize=(10,8))\n",
        "ax1 = sns.barplot(x='City Name', y='density_per_km2_2019', data=sorted_population_df)\n",
        "ax1.set_xticklabels(ax.get_xticklabels(), rotation=90, ha=\"right\")\n",
        "ax1.set_title(\"Gujarat's population density per km2 as of 2019\")"
      ],
      "execution_count": 0,
      "outputs": []
    }
  ]
}