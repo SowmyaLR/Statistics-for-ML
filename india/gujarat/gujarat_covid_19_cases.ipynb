{
  "nbformat": 4,
  "nbformat_minor": 0,
  "metadata": {
    "colab": {
      "name": "gujarat_covid_19_cases.ipynb",
      "provenance": [],
      "authorship_tag": "ABX9TyO2EyFld2bq5kWs39Ez+BES",
      "include_colab_link": true
    },
    "kernelspec": {
      "name": "python3",
      "display_name": "Python 3"
    }
  },
  "cells": [
    {
      "cell_type": "markdown",
      "metadata": {
        "id": "view-in-github",
        "colab_type": "text"
      },
      "source": [
        "<a href=\"https://colab.research.google.com/github/SowmyaLR/Statistics-for-ML/blob/pandemic-visualization/india/gujarat/gujarat_covid_19_cases.ipynb\" target=\"_parent\"><img src=\"https://colab.research.google.com/assets/colab-badge.svg\" alt=\"Open In Colab\"/></a>"
      ]
    },
    {
      "cell_type": "markdown",
      "metadata": {
        "id": "rjXxnCtngrTx",
        "colab_type": "text"
      },
      "source": [
        "# Import required packages"
      ]
    },
    {
      "cell_type": "code",
      "metadata": {
        "id": "leOJUNcxzVXE",
        "colab_type": "code",
        "colab": {}
      },
      "source": [
        "import pandas as pd\n",
        "import matplotlib.pyplot as plt\n",
        "import seaborn as sns"
      ],
      "execution_count": 0,
      "outputs": []
    },
    {
      "cell_type": "markdown",
      "metadata": {
        "id": "64iwmg5W26lr",
        "colab_type": "text"
      },
      "source": [
        "# Read live covid-19 data of India from the official website\n",
        "\n",
        "\n",
        "---\n",
        "\n",
        "\n",
        "1. Read the official website from [Covid-19 India](https://www.mohfw.gov.in/)\n",
        "2. Get statewise data using pd.read_html()"
      ]
    },
    {
      "cell_type": "code",
      "metadata": {
        "id": "nvCWTy7a2lWK",
        "colab_type": "code",
        "colab": {}
      },
      "source": [
        "url = 'https://www.mohfw.gov.in/'\n",
        "state_wise_df = pd.read_html(url)\n",
        "state_wise_df = state_wise_df[0][:33]"
      ],
      "execution_count": 0,
      "outputs": []
    },
    {
      "cell_type": "markdown",
      "metadata": {
        "id": "sT8CxQIPhUtL",
        "colab_type": "text"
      },
      "source": [
        "1. Understand the datatype of each columns in the dataset\n",
        "2. use df.info() for this"
      ]
    },
    {
      "cell_type": "code",
      "metadata": {
        "id": "shWfH-vG390A",
        "colab_type": "code",
        "outputId": "808f1f77-e9d1-46da-f6ba-e6f7f5cf9bf0",
        "colab": {
          "base_uri": "https://localhost:8080/",
          "height": 238
        }
      },
      "source": [
        "state_wise_df.info()"
      ],
      "execution_count": 20,
      "outputs": [
        {
          "output_type": "stream",
          "text": [
            "<class 'pandas.core.frame.DataFrame'>\n",
            "RangeIndex: 33 entries, 0 to 32\n",
            "Data columns (total 6 columns):\n",
            " #   Column                      Non-Null Count  Dtype \n",
            "---  ------                      --------------  ----- \n",
            " 0   S. No.                      33 non-null     object\n",
            " 1   Name of State / UT          33 non-null     object\n",
            " 2   Active Cases*               33 non-null     object\n",
            " 3   Cured/Discharged/Migrated*  33 non-null     object\n",
            " 4   Deaths**                    33 non-null     object\n",
            " 5   Total Confirmed cases*      33 non-null     object\n",
            "dtypes: object(6)\n",
            "memory usage: 1.7+ KB\n"
          ],
          "name": "stdout"
        }
      ]
    },
    {
      "cell_type": "markdown",
      "metadata": {
        "id": "OBuK_zN24mA6",
        "colab_type": "text"
      },
      "source": [
        "1. Need to convert columns \"Total Confirmed cases*\" , \"Cured/Discharged/Migrated\", \"Deaths**\" to int dtype for further computation"
      ]
    },
    {
      "cell_type": "code",
      "metadata": {
        "id": "TYYmbYXx4AbW",
        "colab_type": "code",
        "colab": {}
      },
      "source": [
        "state_wise_df['Total Confirmed cases*'] = pd.to_numeric(state_wise_df['Total Confirmed cases*'])\n",
        "state_wise_df['Cured/Discharged/Migrated*'] = pd.to_numeric(state_wise_df['Cured/Discharged/Migrated*'])\n",
        "state_wise_df['Deaths**'] = pd.to_numeric(state_wise_df['Deaths**'])"
      ],
      "execution_count": 0,
      "outputs": []
    },
    {
      "cell_type": "markdown",
      "metadata": {
        "id": "CzUkU__VhmCr",
        "colab_type": "text"
      },
      "source": [
        "\n",
        "\n",
        "> Now the required columns are converted to int64\n",
        "\n"
      ]
    },
    {
      "cell_type": "code",
      "metadata": {
        "id": "4sv4_99i5Gfl",
        "colab_type": "code",
        "outputId": "68345d44-d287-4627-a045-49b46f52a782",
        "colab": {
          "base_uri": "https://localhost:8080/",
          "height": 238
        }
      },
      "source": [
        "state_wise_df.info()"
      ],
      "execution_count": 22,
      "outputs": [
        {
          "output_type": "stream",
          "text": [
            "<class 'pandas.core.frame.DataFrame'>\n",
            "RangeIndex: 33 entries, 0 to 32\n",
            "Data columns (total 6 columns):\n",
            " #   Column                      Non-Null Count  Dtype \n",
            "---  ------                      --------------  ----- \n",
            " 0   S. No.                      33 non-null     object\n",
            " 1   Name of State / UT          33 non-null     object\n",
            " 2   Active Cases*               33 non-null     object\n",
            " 3   Cured/Discharged/Migrated*  33 non-null     int64 \n",
            " 4   Deaths**                    33 non-null     int64 \n",
            " 5   Total Confirmed cases*      33 non-null     int64 \n",
            "dtypes: int64(3), object(3)\n",
            "memory usage: 1.7+ KB\n"
          ],
          "name": "stdout"
        }
      ]
    },
    {
      "cell_type": "markdown",
      "metadata": {
        "id": "a2bgnMm4hysW",
        "colab_type": "text"
      },
      "source": [
        "\n",
        "\n",
        "> Now sort the dataframe to know which states have highest case\n",
        "\n"
      ]
    },
    {
      "cell_type": "code",
      "metadata": {
        "id": "R8tfoHAN3CHU",
        "colab_type": "code",
        "outputId": "c382de10-1fc8-459c-b6f9-19f54c95e430",
        "colab": {
          "base_uri": "https://localhost:8080/",
          "height": 204
        }
      },
      "source": [
        "state_wise_df.sort_values(by='Total Confirmed cases*', ascending=False, inplace=True)\n",
        "state_wise_df.head()"
      ],
      "execution_count": 23,
      "outputs": [
        {
          "output_type": "execute_result",
          "data": {
            "text/html": [
              "<div>\n",
              "<style scoped>\n",
              "    .dataframe tbody tr th:only-of-type {\n",
              "        vertical-align: middle;\n",
              "    }\n",
              "\n",
              "    .dataframe tbody tr th {\n",
              "        vertical-align: top;\n",
              "    }\n",
              "\n",
              "    .dataframe thead th {\n",
              "        text-align: right;\n",
              "    }\n",
              "</style>\n",
              "<table border=\"1\" class=\"dataframe\">\n",
              "  <thead>\n",
              "    <tr style=\"text-align: right;\">\n",
              "      <th></th>\n",
              "      <th>S. No.</th>\n",
              "      <th>Name of State / UT</th>\n",
              "      <th>Active Cases*</th>\n",
              "      <th>Cured/Discharged/Migrated*</th>\n",
              "      <th>Deaths**</th>\n",
              "      <th>Total Confirmed cases*</th>\n",
              "    </tr>\n",
              "  </thead>\n",
              "  <tbody>\n",
              "    <tr>\n",
              "      <th>20</th>\n",
              "      <td>21</td>\n",
              "      <td>Maharashtra</td>\n",
              "      <td>46086</td>\n",
              "      <td>44517</td>\n",
              "      <td>3438</td>\n",
              "      <td>94041</td>\n",
              "    </tr>\n",
              "    <tr>\n",
              "      <th>30</th>\n",
              "      <td>31</td>\n",
              "      <td>Tamil Nadu</td>\n",
              "      <td>17182</td>\n",
              "      <td>19333</td>\n",
              "      <td>326</td>\n",
              "      <td>36841</td>\n",
              "    </tr>\n",
              "    <tr>\n",
              "      <th>9</th>\n",
              "      <td>10</td>\n",
              "      <td>Delhi</td>\n",
              "      <td>19581</td>\n",
              "      <td>12245</td>\n",
              "      <td>984</td>\n",
              "      <td>32810</td>\n",
              "    </tr>\n",
              "    <tr>\n",
              "      <th>11</th>\n",
              "      <td>12</td>\n",
              "      <td>Gujarat</td>\n",
              "      <td>5439</td>\n",
              "      <td>14735</td>\n",
              "      <td>1347</td>\n",
              "      <td>21521</td>\n",
              "    </tr>\n",
              "    <tr>\n",
              "      <th>28</th>\n",
              "      <td>29</td>\n",
              "      <td>Rajasthan</td>\n",
              "      <td>2772</td>\n",
              "      <td>8569</td>\n",
              "      <td>259</td>\n",
              "      <td>11600</td>\n",
              "    </tr>\n",
              "  </tbody>\n",
              "</table>\n",
              "</div>"
            ],
            "text/plain": [
              "   S. No. Name of State / UT  ... Deaths**  Total Confirmed cases*\n",
              "20     21        Maharashtra  ...     3438                   94041\n",
              "30     31         Tamil Nadu  ...      326                   36841\n",
              "9      10              Delhi  ...      984                   32810\n",
              "11     12            Gujarat  ...     1347                   21521\n",
              "28     29          Rajasthan  ...      259                   11600\n",
              "\n",
              "[5 rows x 6 columns]"
            ]
          },
          "metadata": {
            "tags": []
          },
          "execution_count": 23
        }
      ]
    },
    {
      "cell_type": "markdown",
      "metadata": {
        "id": "2k-X8s1hiIVp",
        "colab_type": "text"
      },
      "source": [
        "Top 5 states having high Covid-19 cases are as follows\n",
        "\n",
        "1. Maharashtra\n",
        "2. Tamil Nadu\n",
        "3. Gujarat\n",
        "4. Delhi\n",
        "5. Rajasthan"
      ]
    },
    {
      "cell_type": "code",
      "metadata": {
        "id": "_bL5zjVv7ADJ",
        "colab_type": "code",
        "outputId": "87a6a0b5-ebac-4dc6-869c-ef4ee07f1cae",
        "colab": {
          "base_uri": "https://localhost:8080/",
          "height": 68
        }
      },
      "source": [
        "state_wise_df.columns\n"
      ],
      "execution_count": 24,
      "outputs": [
        {
          "output_type": "execute_result",
          "data": {
            "text/plain": [
              "Index(['S. No.', 'Name of State / UT', 'Active Cases*',\n",
              "       'Cured/Discharged/Migrated*', 'Deaths**', 'Total Confirmed cases*'],\n",
              "      dtype='object')"
            ]
          },
          "metadata": {
            "tags": []
          },
          "execution_count": 24
        }
      ]
    },
    {
      "cell_type": "code",
      "metadata": {
        "id": "_ozQh15u6qH9",
        "colab_type": "code",
        "outputId": "b2694530-f1cb-4c88-d79d-5b14a60f6264",
        "colab": {
          "base_uri": "https://localhost:8080/",
          "height": 669
        }
      },
      "source": [
        "plt.figure(figsize=(10,8))\n",
        "ax = sns.barplot(x='Name of State / UT', y='Total Confirmed cases*', data=state_wise_df)\n",
        "ax.set_xticklabels(ax.get_xticklabels(), rotation=90, ha=\"right\")\n",
        "ax.set_title('Statewise Covid-19 report')"
      ],
      "execution_count": 25,
      "outputs": [
        {
          "output_type": "execute_result",
          "data": {
            "text/plain": [
              "Text(0.5, 1.0, 'Statewise Covid-19 report')"
            ]
          },
          "metadata": {
            "tags": []
          },
          "execution_count": 25
        },
        {
          "output_type": "display_data",
          "data": {
            "image/png": "[encoded data removed]",
            "text/plain": [
              "<Figure size 720x576 with 1 Axes>"
            ]
          },
          "metadata": {
            "tags": [],
            "needs_background": "light"
          }
        }
      ]
    },
    {
      "cell_type": "markdown",
      "metadata": {
        "id": "6ZJ6qc_20bZF",
        "colab_type": "text"
      },
      "source": [
        "# Gujarat Covid-19 Analysis\n",
        "\n",
        "\n",
        "---\n",
        "\n",
        "\n",
        "1. dataset source: [kaggle](https://www.kaggle.com/pateldeep7799/covid19-cases-in-gujaratindia?select=DistrictWiseReport.csv)\n",
        "\n",
        "2. Download it as follows"
      ]
    },
    {
      "cell_type": "code",
      "metadata": {
        "id": "ZotUqn14VQ-g",
        "colab_type": "code",
        "outputId": "e98a2756-fd72-480a-d493-4afb13f764d8",
        "colab": {
          "base_uri": "https://localhost:8080/",
          "height": 204
        }
      },
      "source": [
        "!wget -O 'gujarat_dataset.csv' https://raw.githubusercontent.com/SowmyaLR/Statistics-for-ML/pandemic-visualization/india/gujarat/gujarat_dataset.csv"
      ],
      "execution_count": 26,
      "outputs": [
        {
          "output_type": "stream",
          "text": [
            "--2020-06-11 04:26:56--  https://raw.githubusercontent.com/SowmyaLR/Statistics-for-ML/pandemic-visualization/india/gujarat/gujarat_dataset.csv\n",
            "Resolving raw.githubusercontent.com (raw.githubusercontent.com)... 151.101.0.133, 151.101.64.133, 151.101.128.133, ...\n",
            "Connecting to raw.githubusercontent.com (raw.githubusercontent.com)|151.101.0.133|:443... connected.\n",
            "HTTP request sent, awaiting response... 200 OK\n",
            "Length: 1121 (1.1K) [text/plain]\n",
            "Saving to: ‘gujarat_dataset.csv’\n",
            "\n",
            "\rgujarat_dataset.csv   0%[                    ]       0  --.-KB/s               \rgujarat_dataset.csv 100%[===================>]   1.09K  --.-KB/s    in 0s      \n",
            "\n",
            "2020-06-11 04:26:56 (43.3 MB/s) - ‘gujarat_dataset.csv’ saved [1121/1121]\n",
            "\n"
          ],
          "name": "stdout"
        }
      ]
    },
    {
      "cell_type": "markdown",
      "metadata": {
        "id": "C1hXbPXGoAfA",
        "colab_type": "text"
      },
      "source": [
        "Read the gujarat covid data"
      ]
    },
    {
      "cell_type": "code",
      "metadata": {
        "id": "Ogvwdsz61NAg",
        "colab_type": "code",
        "colab": {}
      },
      "source": [
        "gujarat_covid_df = pd.read_csv('gujarat_dataset.csv')"
      ],
      "execution_count": 0,
      "outputs": []
    },
    {
      "cell_type": "markdown",
      "metadata": {
        "id": "wMxT8oL6oEC8",
        "colab_type": "text"
      },
      "source": [
        "Check the statistical info about the data"
      ]
    },
    {
      "cell_type": "code",
      "metadata": {
        "id": "VnYj1sOW1ddN",
        "colab_type": "code",
        "outputId": "19278a9a-3809-4dce-cf87-f3e9b70a30e0",
        "colab": {
          "base_uri": "https://localhost:8080/",
          "height": 297
        }
      },
      "source": [
        "gujarat_covid_df.describe()"
      ],
      "execution_count": 28,
      "outputs": [
        {
          "output_type": "execute_result",
          "data": {
            "text/html": [
              "<div>\n",
              "<style scoped>\n",
              "    .dataframe tbody tr th:only-of-type {\n",
              "        vertical-align: middle;\n",
              "    }\n",
              "\n",
              "    .dataframe tbody tr th {\n",
              "        vertical-align: top;\n",
              "    }\n",
              "\n",
              "    .dataframe thead th {\n",
              "        text-align: right;\n",
              "    }\n",
              "</style>\n",
              "<table border=\"1\" class=\"dataframe\">\n",
              "  <thead>\n",
              "    <tr style=\"text-align: right;\">\n",
              "      <th></th>\n",
              "      <th>Sr No</th>\n",
              "      <th>Confirmed Positive Cases</th>\n",
              "      <th>Cases Tested for COVID19</th>\n",
              "      <th>Patients Recovered</th>\n",
              "      <th>People Under Quarantine</th>\n",
              "      <th>Total Deaths</th>\n",
              "    </tr>\n",
              "  </thead>\n",
              "  <tbody>\n",
              "    <tr>\n",
              "      <th>count</th>\n",
              "      <td>33.00000</td>\n",
              "      <td>33.000000</td>\n",
              "      <td>33.000000</td>\n",
              "      <td>33.000000</td>\n",
              "      <td>33.000000</td>\n",
              "      <td>33.000000</td>\n",
              "    </tr>\n",
              "    <tr>\n",
              "      <th>mean</th>\n",
              "      <td>17.00000</td>\n",
              "      <td>290.636364</td>\n",
              "      <td>3779.030303</td>\n",
              "      <td>113.727273</td>\n",
              "      <td>7359.575758</td>\n",
              "      <td>17.757576</td>\n",
              "    </tr>\n",
              "    <tr>\n",
              "      <th>std</th>\n",
              "      <td>9.66954</td>\n",
              "      <td>1203.782627</td>\n",
              "      <td>9412.489753</td>\n",
              "      <td>399.442054</td>\n",
              "      <td>10138.993216</td>\n",
              "      <td>80.808427</td>\n",
              "    </tr>\n",
              "    <tr>\n",
              "      <th>min</th>\n",
              "      <td>1.00000</td>\n",
              "      <td>1.000000</td>\n",
              "      <td>344.000000</td>\n",
              "      <td>0.000000</td>\n",
              "      <td>19.000000</td>\n",
              "      <td>0.000000</td>\n",
              "    </tr>\n",
              "    <tr>\n",
              "      <th>25%</th>\n",
              "      <td>9.00000</td>\n",
              "      <td>8.000000</td>\n",
              "      <td>760.000000</td>\n",
              "      <td>3.000000</td>\n",
              "      <td>1777.000000</td>\n",
              "      <td>0.000000</td>\n",
              "    </tr>\n",
              "    <tr>\n",
              "      <th>50%</th>\n",
              "      <td>17.00000</td>\n",
              "      <td>32.000000</td>\n",
              "      <td>1291.000000</td>\n",
              "      <td>14.000000</td>\n",
              "      <td>3903.000000</td>\n",
              "      <td>1.000000</td>\n",
              "    </tr>\n",
              "    <tr>\n",
              "      <th>75%</th>\n",
              "      <td>25.00000</td>\n",
              "      <td>73.000000</td>\n",
              "      <td>1731.000000</td>\n",
              "      <td>37.000000</td>\n",
              "      <td>7335.000000</td>\n",
              "      <td>2.000000</td>\n",
              "    </tr>\n",
              "    <tr>\n",
              "      <th>max</th>\n",
              "      <td>33.00000</td>\n",
              "      <td>6910.000000</td>\n",
              "      <td>51232.000000</td>\n",
              "      <td>2247.000000</td>\n",
              "      <td>44187.000000</td>\n",
              "      <td>465.000000</td>\n",
              "    </tr>\n",
              "  </tbody>\n",
              "</table>\n",
              "</div>"
            ],
            "text/plain": [
              "          Sr No  ...  Total Deaths\n",
              "count  33.00000  ...     33.000000\n",
              "mean   17.00000  ...     17.757576\n",
              "std     9.66954  ...     80.808427\n",
              "min     1.00000  ...      0.000000\n",
              "25%     9.00000  ...      0.000000\n",
              "50%    17.00000  ...      1.000000\n",
              "75%    25.00000  ...      2.000000\n",
              "max    33.00000  ...    465.000000\n",
              "\n",
              "[8 rows x 6 columns]"
            ]
          },
          "metadata": {
            "tags": []
          },
          "execution_count": 28
        }
      ]
    },
    {
      "cell_type": "code",
      "metadata": {
        "id": "hgmqY4402JDy",
        "colab_type": "code",
        "outputId": "50cf5ab5-de69-4aa5-eeef-885d507137f0",
        "colab": {
          "base_uri": "https://localhost:8080/",
          "height": 255
        }
      },
      "source": [
        "gujarat_covid_df.info()"
      ],
      "execution_count": 29,
      "outputs": [
        {
          "output_type": "stream",
          "text": [
            "<class 'pandas.core.frame.DataFrame'>\n",
            "RangeIndex: 33 entries, 0 to 32\n",
            "Data columns (total 7 columns):\n",
            " #   Column                    Non-Null Count  Dtype \n",
            "---  ------                    --------------  ----- \n",
            " 0   Sr No                     33 non-null     int64 \n",
            " 1   District Name             33 non-null     object\n",
            " 2   Confirmed Positive Cases  33 non-null     int64 \n",
            " 3   Cases Tested for COVID19  33 non-null     int64 \n",
            " 4   Patients Recovered        33 non-null     int64 \n",
            " 5   People Under Quarantine   33 non-null     int64 \n",
            " 6   Total Deaths              33 non-null     int64 \n",
            "dtypes: int64(6), object(1)\n",
            "memory usage: 1.9+ KB\n"
          ],
          "name": "stdout"
        }
      ]
    },
    {
      "cell_type": "markdown",
      "metadata": {
        "id": "xK4ZFh-uoKhn",
        "colab_type": "text"
      },
      "source": [
        "\n",
        "\n",
        "> Now sort the dataframe districtwise having high confirmed cases\n",
        "\n"
      ]
    },
    {
      "cell_type": "code",
      "metadata": {
        "id": "fcdaF5-UCCbm",
        "colab_type": "code",
        "colab": {}
      },
      "source": [
        "sorted_gujarat_covid_df = gujarat_covid_df.sort_values(by='Confirmed Positive Cases',ascending=False).nlargest(5,'Confirmed Positive Cases')"
      ],
      "execution_count": 0,
      "outputs": []
    },
    {
      "cell_type": "markdown",
      "metadata": {
        "id": "Eyt8j93_oVjW",
        "colab_type": "text"
      },
      "source": [
        "Visualize the top 5 districts in Gujarat having high confirmed case.\n",
        "\n",
        "The top 5 districts are\n",
        "\n",
        "1. Ahmedabad\n",
        "2. Surat\n",
        "3. Vadodara\n",
        "4. Gandhinagar\n",
        "5. Bhavnanagar"
      ]
    },
    {
      "cell_type": "code",
      "metadata": {
        "id": "soFXCDtf8vPT",
        "colab_type": "code",
        "outputId": "beff3224-4a7b-4ef9-d9db-25efbb9d2bf8",
        "colab": {
          "base_uri": "https://localhost:8080/",
          "height": 585
        }
      },
      "source": [
        "plt.subplots(figsize=(10,8))\n",
        "ax = sns.barplot(x='District Name', y='Confirmed Positive Cases', data=sorted_gujarat_covid_df)\n",
        "ax.set_xticklabels(ax.get_xticklabels(), rotation=90, ha=\"right\")\n",
        "ax.set_title('Top 5 cities in Gujarat having positive cases')"
      ],
      "execution_count": 31,
      "outputs": [
        {
          "output_type": "execute_result",
          "data": {
            "text/plain": [
              "Text(0.5, 1.0, 'Top 5 cities in Gujarat having positive cases')"
            ]
          },
          "metadata": {
            "tags": []
          },
          "execution_count": 31
        },
        {
          "output_type": "display_data",
          "data": {
            "image/png": "[encoded data removed]",
            "text/plain": [
              "<Figure size 720x576 with 1 Axes>"
            ]
          },
          "metadata": {
            "tags": [],
            "needs_background": "light"
          }
        }
      ]
    },
    {
      "cell_type": "markdown",
      "metadata": {
        "id": "qtQkdZFeoscH",
        "colab_type": "text"
      },
      "source": [
        "# Analysis about density per km^2 of Gujarat\n",
        "\n",
        "\n",
        "---\n",
        "\n",
        "Lets look at the Area and density of population in Gujarat by checking the wikipedia link"
      ]
    },
    {
      "cell_type": "code",
      "metadata": {
        "id": "cJ_VyNJc-NH4",
        "colab_type": "code",
        "colab": {}
      },
      "source": [
        "pouplation_url = 'https://en.wikipedia.org/wiki/List_of_cities_in_Gujarat_by_population'\n",
        "gujarat_population_df = pd.read_html(pouplation_url)\n",
        "gujarat_population_df = gujarat_population_df[0]"
      ],
      "execution_count": 0,
      "outputs": []
    },
    {
      "cell_type": "code",
      "metadata": {
        "id": "vUSbA-n2-qDF",
        "colab_type": "code",
        "outputId": "a530de0f-b8cc-471b-ccdd-8c15daca97b1",
        "colab": {
          "base_uri": "https://localhost:8080/",
          "height": 297
        }
      },
      "source": [
        "gujarat_population_df.describe()"
      ],
      "execution_count": 33,
      "outputs": [
        {
          "output_type": "execute_result",
          "data": {
            "text/html": [
              "<div>\n",
              "<style scoped>\n",
              "    .dataframe tbody tr th:only-of-type {\n",
              "        vertical-align: middle;\n",
              "    }\n",
              "\n",
              "    .dataframe tbody tr th {\n",
              "        vertical-align: top;\n",
              "    }\n",
              "\n",
              "    .dataframe thead th {\n",
              "        text-align: right;\n",
              "    }\n",
              "</style>\n",
              "<table border=\"1\" class=\"dataframe\">\n",
              "  <thead>\n",
              "    <tr style=\"text-align: right;\">\n",
              "      <th></th>\n",
              "      <th>S.No.</th>\n",
              "      <th>Population (2021) Expected</th>\n",
              "      <th>Population (2019)</th>\n",
              "      <th>Population (2011)</th>\n",
              "      <th>Population (2001)</th>\n",
              "      <th>Population (1991)</th>\n",
              "      <th>Area (2019) (km2)</th>\n",
              "    </tr>\n",
              "  </thead>\n",
              "  <tbody>\n",
              "    <tr>\n",
              "      <th>count</th>\n",
              "      <td>15.000000</td>\n",
              "      <td>1.500000e+01</td>\n",
              "      <td>1.500000e+01</td>\n",
              "      <td>1.500000e+01</td>\n",
              "      <td>1.500000e+01</td>\n",
              "      <td>1.500000e+01</td>\n",
              "      <td>15.000000</td>\n",
              "    </tr>\n",
              "    <tr>\n",
              "      <th>mean</th>\n",
              "      <td>8.000000</td>\n",
              "      <td>1.925498e+06</td>\n",
              "      <td>1.673766e+06</td>\n",
              "      <td>1.178556e+06</td>\n",
              "      <td>8.485485e+05</td>\n",
              "      <td>5.861981e+05</td>\n",
              "      <td>129.110667</td>\n",
              "    </tr>\n",
              "    <tr>\n",
              "      <th>std</th>\n",
              "      <td>4.472136</td>\n",
              "      <td>3.265199e+06</td>\n",
              "      <td>2.721841e+06</td>\n",
              "      <td>1.837109e+06</td>\n",
              "      <td>1.246850e+06</td>\n",
              "      <td>8.599641e+05</td>\n",
              "      <td>145.730343</td>\n",
              "    </tr>\n",
              "    <tr>\n",
              "      <th>min</th>\n",
              "      <td>1.000000</td>\n",
              "      <td>2.435840e+05</td>\n",
              "      <td>2.371380e+05</td>\n",
              "      <td>2.172030e+05</td>\n",
              "      <td>1.516930e+05</td>\n",
              "      <td>1.045850e+05</td>\n",
              "      <td>27.600000</td>\n",
              "    </tr>\n",
              "    <tr>\n",
              "      <th>25%</th>\n",
              "      <td>4.500000</td>\n",
              "      <td>3.372465e+05</td>\n",
              "      <td>3.168285e+05</td>\n",
              "      <td>2.499255e+05</td>\n",
              "      <td>1.970875e+05</td>\n",
              "      <td>1.635685e+05</td>\n",
              "      <td>41.270000</td>\n",
              "    </tr>\n",
              "    <tr>\n",
              "      <th>50%</th>\n",
              "      <td>8.000000</td>\n",
              "      <td>3.852910e+05</td>\n",
              "      <td>3.614170e+05</td>\n",
              "      <td>2.880920e+05</td>\n",
              "      <td>2.324110e+05</td>\n",
              "      <td>1.744800e+05</td>\n",
              "      <td>60.360000</td>\n",
              "    </tr>\n",
              "    <tr>\n",
              "      <th>75%</th>\n",
              "      <td>11.500000</td>\n",
              "      <td>1.636700e+06</td>\n",
              "      <td>1.400860e+06</td>\n",
              "      <td>9.982610e+05</td>\n",
              "      <td>7.799855e+05</td>\n",
              "      <td>5.298575e+05</td>\n",
              "      <td>156.355000</td>\n",
              "    </tr>\n",
              "    <tr>\n",
              "      <th>max</th>\n",
              "      <td>15.000000</td>\n",
              "      <td>1.145000e+07</td>\n",
              "      <td>9.250000e+06</td>\n",
              "      <td>6.357693e+06</td>\n",
              "      <td>4.525013e+06</td>\n",
              "      <td>3.312216e+06</td>\n",
              "      <td>493.290000</td>\n",
              "    </tr>\n",
              "  </tbody>\n",
              "</table>\n",
              "</div>"
            ],
            "text/plain": [
              "           S.No.  ...  Area (2019) (km2)\n",
              "count  15.000000  ...          15.000000\n",
              "mean    8.000000  ...         129.110667\n",
              "std     4.472136  ...         145.730343\n",
              "min     1.000000  ...          27.600000\n",
              "25%     4.500000  ...          41.270000\n",
              "50%     8.000000  ...          60.360000\n",
              "75%    11.500000  ...         156.355000\n",
              "max    15.000000  ...         493.290000\n",
              "\n",
              "[8 rows x 7 columns]"
            ]
          },
          "metadata": {
            "tags": []
          },
          "execution_count": 33
        }
      ]
    },
    {
      "cell_type": "code",
      "metadata": {
        "id": "HDQmIyDX-xzx",
        "colab_type": "code",
        "outputId": "d4f28353-1195-4fed-f13e-0724c84d318c",
        "colab": {
          "base_uri": "https://localhost:8080/",
          "height": 272
        }
      },
      "source": [
        "gujarat_population_df.info()"
      ],
      "execution_count": 34,
      "outputs": [
        {
          "output_type": "stream",
          "text": [
            "<class 'pandas.core.frame.DataFrame'>\n",
            "RangeIndex: 15 entries, 0 to 14\n",
            "Data columns (total 8 columns):\n",
            " #   Column                      Non-Null Count  Dtype  \n",
            "---  ------                      --------------  -----  \n",
            " 0   S.No.                       15 non-null     float64\n",
            " 1   City Name                   15 non-null     object \n",
            " 2   Population (2021) Expected  15 non-null     int64  \n",
            " 3   Population (2019)           15 non-null     int64  \n",
            " 4   Population (2011)           15 non-null     int64  \n",
            " 5   Population (2001)           15 non-null     int64  \n",
            " 6   Population (1991)           15 non-null     int64  \n",
            " 7   Area (2019) (km2)           15 non-null     float64\n",
            "dtypes: float64(2), int64(5), object(1)\n",
            "memory usage: 1.1+ KB\n"
          ],
          "name": "stdout"
        }
      ]
    },
    {
      "cell_type": "markdown",
      "metadata": {
        "id": "67dVKrvzpBw1",
        "colab_type": "text"
      },
      "source": [
        "Calculate the density per km^2 of Gujarat by the following calculation"
      ]
    },
    {
      "cell_type": "code",
      "metadata": {
        "id": "-JYgskqu-1D3",
        "colab_type": "code",
        "colab": {}
      },
      "source": [
        "gujarat_population_df['density_per_km2_2019'] = gujarat_population_df['Population (2019)']/gujarat_population_df['Area (2019) (km2)']"
      ],
      "execution_count": 0,
      "outputs": []
    },
    {
      "cell_type": "markdown",
      "metadata": {
        "id": "iIR2IprbpNYO",
        "colab_type": "text"
      },
      "source": [
        "Sort the above dataframe having highest density_per_km^2"
      ]
    },
    {
      "cell_type": "code",
      "metadata": {
        "id": "Rn0Wp6no_rsJ",
        "colab_type": "code",
        "outputId": "50a26355-8e46-4dc6-f1cd-276370d71e29",
        "colab": {
          "base_uri": "https://localhost:8080/",
          "height": 221
        }
      },
      "source": [
        "sorted_population_df = gujarat_population_df.sort_values(by='density_per_km2_2019', ascending=False).nlargest(5,'density_per_km2_2019')\n",
        "sorted_population_df"
      ],
      "execution_count": 36,
      "outputs": [
        {
          "output_type": "execute_result",
          "data": {
            "text/html": [
              "<div>\n",
              "<style scoped>\n",
              "    .dataframe tbody tr th:only-of-type {\n",
              "        vertical-align: middle;\n",
              "    }\n",
              "\n",
              "    .dataframe tbody tr th {\n",
              "        vertical-align: top;\n",
              "    }\n",
              "\n",
              "    .dataframe thead th {\n",
              "        text-align: right;\n",
              "    }\n",
              "</style>\n",
              "<table border=\"1\" class=\"dataframe\">\n",
              "  <thead>\n",
              "    <tr style=\"text-align: right;\">\n",
              "      <th></th>\n",
              "      <th>S.No.</th>\n",
              "      <th>City Name</th>\n",
              "      <th>Population (2021) Expected</th>\n",
              "      <th>Population (2019)</th>\n",
              "      <th>Population (2011)</th>\n",
              "      <th>Population (2001)</th>\n",
              "      <th>Population (1991)</th>\n",
              "      <th>Area (2019) (km2)</th>\n",
              "      <th>density_per_km2_2019</th>\n",
              "    </tr>\n",
              "  </thead>\n",
              "  <tbody>\n",
              "    <tr>\n",
              "      <th>0</th>\n",
              "      <td>1.0</td>\n",
              "      <td>Ahmedabad</td>\n",
              "      <td>11450000</td>\n",
              "      <td>9250000</td>\n",
              "      <td>6357693</td>\n",
              "      <td>4525013</td>\n",
              "      <td>3312216</td>\n",
              "      <td>493.29</td>\n",
              "      <td>18751.647104</td>\n",
              "    </tr>\n",
              "    <tr>\n",
              "      <th>1</th>\n",
              "      <td>2.0</td>\n",
              "      <td>Surat</td>\n",
              "      <td>7567538</td>\n",
              "      <td>6850000</td>\n",
              "      <td>4591246</td>\n",
              "      <td>2811614</td>\n",
              "      <td>1518950</td>\n",
              "      <td>379.77</td>\n",
              "      <td>18037.233062</td>\n",
              "    </tr>\n",
              "    <tr>\n",
              "      <th>8</th>\n",
              "      <td>9.0</td>\n",
              "      <td>Navsari</td>\n",
              "      <td>350674</td>\n",
              "      <td>333777</td>\n",
              "      <td>282791</td>\n",
              "      <td>232411</td>\n",
              "      <td>190946</td>\n",
              "      <td>30.25</td>\n",
              "      <td>11033.950413</td>\n",
              "    </tr>\n",
              "    <tr>\n",
              "      <th>4</th>\n",
              "      <td>5.0</td>\n",
              "      <td>Bhavnagar</td>\n",
              "      <td>816845</td>\n",
              "      <td>771719</td>\n",
              "      <td>605882</td>\n",
              "      <td>517708</td>\n",
              "      <td>405225</td>\n",
              "      <td>71.36</td>\n",
              "      <td>10814.447870</td>\n",
              "    </tr>\n",
              "    <tr>\n",
              "      <th>12</th>\n",
              "      <td>13.0</td>\n",
              "      <td>Surendranagar</td>\n",
              "      <td>298692</td>\n",
              "      <td>287093</td>\n",
              "      <td>253606</td>\n",
              "      <td>219585</td>\n",
              "      <td>166466</td>\n",
              "      <td>27.60</td>\n",
              "      <td>10401.920290</td>\n",
              "    </tr>\n",
              "  </tbody>\n",
              "</table>\n",
              "</div>"
            ],
            "text/plain": [
              "    S.No.      City Name  ...  Area (2019) (km2)  density_per_km2_2019\n",
              "0     1.0      Ahmedabad  ...             493.29          18751.647104\n",
              "1     2.0          Surat  ...             379.77          18037.233062\n",
              "8     9.0        Navsari  ...              30.25          11033.950413\n",
              "4     5.0      Bhavnagar  ...              71.36          10814.447870\n",
              "12   13.0  Surendranagar  ...              27.60          10401.920290\n",
              "\n",
              "[5 rows x 9 columns]"
            ]
          },
          "metadata": {
            "tags": []
          },
          "execution_count": 36
        }
      ]
    },
    {
      "cell_type": "markdown",
      "metadata": {
        "id": "ydU3G9sVsTsP",
        "colab_type": "text"
      },
      "source": [
        "Again the same two districts topped here\n",
        "\n",
        "1. Ahmedabad\n",
        "2. Surat"
      ]
    },
    {
      "cell_type": "code",
      "metadata": {
        "id": "IG0d66RWCxJS",
        "colab_type": "code",
        "outputId": "1eacd2f5-8c1c-47ff-a5ed-d022b6a7d479",
        "colab": {
          "base_uri": "https://localhost:8080/",
          "height": 595
        }
      },
      "source": [
        "plt.subplots(figsize=(10,8))\n",
        "ax1 = sns.barplot(x='City Name', y='density_per_km2_2019', data=sorted_population_df)\n",
        "ax1.set_xticklabels(ax1.get_xticklabels(), rotation=90, ha=\"right\")\n",
        "ax1.set_title(\"Gujarat's population density per km2 as of 2019\")"
      ],
      "execution_count": 37,
      "outputs": [
        {
          "output_type": "execute_result",
          "data": {
            "text/plain": [
              "Text(0.5, 1.0, \"Gujarat's population density per km2 as of 2019\")"
            ]
          },
          "metadata": {
            "tags": []
          },
          "execution_count": 37
        },
        {
          "output_type": "display_data",
          "data": {
            "image/png": "[encoded data removed]",
            "text/plain": [
              "<Figure size 720x576 with 1 Axes>"
            ]
          },
          "metadata": {
            "tags": [],
            "needs_background": "light"
          }
        }
      ]
    },
    {
      "cell_type": "markdown",
      "metadata": {
        "id": "KFU_Zas0sfn_",
        "colab_type": "text"
      },
      "source": [
        "# Insights observed from the above analysis\n",
        "\n",
        "Many factors are indicators for Covid-19 spread. Here **density per km ^2** is also identified as one of the indicators. \n",
        "\n",
        "Some additional precautions can be taken in densely populated place"
      ]
    }
  ]
}