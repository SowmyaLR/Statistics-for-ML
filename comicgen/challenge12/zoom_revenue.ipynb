{
  "nbformat": 4,
  "nbformat_minor": 0,
  "metadata": {
    "colab": {
      "name": "zoom_revenue.ipynb",
      "provenance": [],
      "authorship_tag": "ABX9TyPEtfvbUmKXLiKRUNHvaWZ/",
      "include_colab_link": true
    },
    "kernelspec": {
      "name": "python3",
      "display_name": "Python 3"
    }
  },
  "cells": [
    {
      "cell_type": "markdown",
      "metadata": {
        "id": "view-in-github",
        "colab_type": "text"
      },
      "source": [
        "<a href=\"https://colab.research.google.com/github/SowmyaLR/Statistics-for-ML/blob/pandemic-visualization/comicgen/challenge12/zoom_revenue.ipynb\" target=\"_parent\"><img src=\"https://colab.research.google.com/assets/colab-badge.svg\" alt=\"Open In Colab\"/></a>"
      ]
    },
    {
      "cell_type": "code",
      "metadata": {
        "id": "9JBe_3Y960nN"
      },
      "source": [
        "import pandas as pd\n",
        "import matplotlib.pyplot as plt\n",
        "import numpy as np"
      ],
      "execution_count": 16,
      "outputs": []
    },
    {
      "cell_type": "code",
      "metadata": {
        "id": "JOzFpMk764fp"
      },
      "source": [
        "zoom_revenue = pd.read_excel(\"zoom_quarterly_revenue.xlsx\")"
      ],
      "execution_count": 4,
      "outputs": []
    },
    {
      "cell_type": "code",
      "metadata": {
        "colab": {
          "base_uri": "https://localhost:8080/",
          "height": 173
        },
        "id": "k00MOswb7pL3",
        "outputId": "68020323-28a6-4f2b-a856-c33843cdf144"
      },
      "source": [
        "zoom_revenue.describe()"
      ],
      "execution_count": 7,
      "outputs": [
        {
          "output_type": "execute_result",
          "data": {
            "text/html": [
              "<div>\n",
              "<style scoped>\n",
              "    .dataframe tbody tr th:only-of-type {\n",
              "        vertical-align: middle;\n",
              "    }\n",
              "\n",
              "    .dataframe tbody tr th {\n",
              "        vertical-align: top;\n",
              "    }\n",
              "\n",
              "    .dataframe thead th {\n",
              "        text-align: right;\n",
              "    }\n",
              "</style>\n",
              "<table border=\"1\" class=\"dataframe\">\n",
              "  <thead>\n",
              "    <tr style=\"text-align: right;\">\n",
              "      <th></th>\n",
              "      <th>Quarterly revenue of Zoom Video Communications</th>\n",
              "      <th>Unnamed: 1</th>\n",
              "      <th>Unnamed: 2</th>\n",
              "      <th>Unnamed: 3</th>\n",
              "    </tr>\n",
              "  </thead>\n",
              "  <tbody>\n",
              "    <tr>\n",
              "      <th>count</th>\n",
              "      <td>13</td>\n",
              "      <td>12</td>\n",
              "      <td>12</td>\n",
              "      <td>12</td>\n",
              "    </tr>\n",
              "    <tr>\n",
              "      <th>unique</th>\n",
              "      <td>5</td>\n",
              "      <td>5</td>\n",
              "      <td>5</td>\n",
              "      <td>12</td>\n",
              "    </tr>\n",
              "    <tr>\n",
              "      <th>top</th>\n",
              "      <td>2019-20</td>\n",
              "      <td>Q1</td>\n",
              "      <td>Feb-April</td>\n",
              "      <td>664</td>\n",
              "    </tr>\n",
              "    <tr>\n",
              "      <th>freq</th>\n",
              "      <td>4</td>\n",
              "      <td>3</td>\n",
              "      <td>3</td>\n",
              "      <td>1</td>\n",
              "    </tr>\n",
              "  </tbody>\n",
              "</table>\n",
              "</div>"
            ],
            "text/plain": [
              "       Quarterly revenue of Zoom Video Communications  ... Unnamed: 3\n",
              "count                                              13  ...         12\n",
              "unique                                              5  ...         12\n",
              "top                                           2019-20  ...        664\n",
              "freq                                                4  ...          1\n",
              "\n",
              "[4 rows x 4 columns]"
            ]
          },
          "metadata": {
            "tags": []
          },
          "execution_count": 7
        }
      ]
    },
    {
      "cell_type": "code",
      "metadata": {
        "id": "UEDP1iwZ7wI9"
      },
      "source": [
        "zoom_revenue = zoom_revenue[1:-2]"
      ],
      "execution_count": 5,
      "outputs": []
    },
    {
      "cell_type": "code",
      "metadata": {
        "id": "oztBJDYU8mtF"
      },
      "source": [
        "zoom_revenue[\"X_Axis\"] = zoom_revenue[\"Quarterly revenue of Zoom Video Communications\"]+ \" \" + zoom_revenue[\"Unnamed: 1\"]"
      ],
      "execution_count": 14,
      "outputs": []
    },
    {
      "cell_type": "code",
      "metadata": {
        "colab": {
          "base_uri": "https://localhost:8080/",
          "height": 390
        },
        "id": "V8hAz4D7-Oib",
        "outputId": "ec68cae6-943e-4dd0-b534-7185ba4e89bc"
      },
      "source": [
        "zoom_revenue"
      ],
      "execution_count": 15,
      "outputs": [
        {
          "output_type": "execute_result",
          "data": {
            "text/html": [
              "<div>\n",
              "<style scoped>\n",
              "    .dataframe tbody tr th:only-of-type {\n",
              "        vertical-align: middle;\n",
              "    }\n",
              "\n",
              "    .dataframe tbody tr th {\n",
              "        vertical-align: top;\n",
              "    }\n",
              "\n",
              "    .dataframe thead th {\n",
              "        text-align: right;\n",
              "    }\n",
              "</style>\n",
              "<table border=\"1\" class=\"dataframe\">\n",
              "  <thead>\n",
              "    <tr style=\"text-align: right;\">\n",
              "      <th></th>\n",
              "      <th>Quarterly revenue of Zoom Video Communications</th>\n",
              "      <th>Unnamed: 1</th>\n",
              "      <th>Unnamed: 2</th>\n",
              "      <th>Unnamed: 3</th>\n",
              "      <th>X_Axis</th>\n",
              "    </tr>\n",
              "  </thead>\n",
              "  <tbody>\n",
              "    <tr>\n",
              "      <th>1</th>\n",
              "      <td>2018-19</td>\n",
              "      <td>Q1</td>\n",
              "      <td>Feb-April</td>\n",
              "      <td>60</td>\n",
              "      <td>2018-19 Q1</td>\n",
              "    </tr>\n",
              "    <tr>\n",
              "      <th>2</th>\n",
              "      <td>2018-19</td>\n",
              "      <td>Q2</td>\n",
              "      <td>May-July</td>\n",
              "      <td>75</td>\n",
              "      <td>2018-19 Q2</td>\n",
              "    </tr>\n",
              "    <tr>\n",
              "      <th>3</th>\n",
              "      <td>2018-19</td>\n",
              "      <td>Q3</td>\n",
              "      <td>August-October</td>\n",
              "      <td>90</td>\n",
              "      <td>2018-19 Q3</td>\n",
              "    </tr>\n",
              "    <tr>\n",
              "      <th>4</th>\n",
              "      <td>2018-19</td>\n",
              "      <td>Q4</td>\n",
              "      <td>November-January</td>\n",
              "      <td>106</td>\n",
              "      <td>2018-19 Q4</td>\n",
              "    </tr>\n",
              "    <tr>\n",
              "      <th>5</th>\n",
              "      <td>2019-20</td>\n",
              "      <td>Q1</td>\n",
              "      <td>Feb-April</td>\n",
              "      <td>122</td>\n",
              "      <td>2019-20 Q1</td>\n",
              "    </tr>\n",
              "    <tr>\n",
              "      <th>6</th>\n",
              "      <td>2019-20</td>\n",
              "      <td>Q2</td>\n",
              "      <td>May-July</td>\n",
              "      <td>146</td>\n",
              "      <td>2019-20 Q2</td>\n",
              "    </tr>\n",
              "    <tr>\n",
              "      <th>7</th>\n",
              "      <td>2019-20</td>\n",
              "      <td>Q3</td>\n",
              "      <td>August-October</td>\n",
              "      <td>167</td>\n",
              "      <td>2019-20 Q3</td>\n",
              "    </tr>\n",
              "    <tr>\n",
              "      <th>8</th>\n",
              "      <td>2019-20</td>\n",
              "      <td>Q4</td>\n",
              "      <td>November-January</td>\n",
              "      <td>188</td>\n",
              "      <td>2019-20 Q4</td>\n",
              "    </tr>\n",
              "    <tr>\n",
              "      <th>9</th>\n",
              "      <td>2020-21</td>\n",
              "      <td>Q1</td>\n",
              "      <td>Feb-April</td>\n",
              "      <td>328</td>\n",
              "      <td>2020-21 Q1</td>\n",
              "    </tr>\n",
              "    <tr>\n",
              "      <th>10</th>\n",
              "      <td>2020-21</td>\n",
              "      <td>Q2</td>\n",
              "      <td>May-July</td>\n",
              "      <td>664</td>\n",
              "      <td>2020-21 Q2</td>\n",
              "    </tr>\n",
              "    <tr>\n",
              "      <th>11</th>\n",
              "      <td>2020-21</td>\n",
              "      <td>Q3</td>\n",
              "      <td>August-October</td>\n",
              "      <td>777</td>\n",
              "      <td>2020-21 Q3</td>\n",
              "    </tr>\n",
              "  </tbody>\n",
              "</table>\n",
              "</div>"
            ],
            "text/plain": [
              "   Quarterly revenue of Zoom Video Communications  ...      X_Axis\n",
              "1                                         2018-19  ...  2018-19 Q1\n",
              "2                                         2018-19  ...  2018-19 Q2\n",
              "3                                         2018-19  ...  2018-19 Q3\n",
              "4                                         2018-19  ...  2018-19 Q4\n",
              "5                                         2019-20  ...  2019-20 Q1\n",
              "6                                         2019-20  ...  2019-20 Q2\n",
              "7                                         2019-20  ...  2019-20 Q3\n",
              "8                                         2019-20  ...  2019-20 Q4\n",
              "9                                         2020-21  ...  2020-21 Q1\n",
              "10                                        2020-21  ...  2020-21 Q2\n",
              "11                                        2020-21  ...  2020-21 Q3\n",
              "\n",
              "[11 rows x 5 columns]"
            ]
          },
          "metadata": {
            "tags": []
          },
          "execution_count": 15
        }
      ]
    },
    {
      "cell_type": "code",
      "metadata": {
        "colab": {
          "base_uri": "https://localhost:8080/",
          "height": 513
        },
        "id": "iZmqsG6X-aeY",
        "outputId": "ae12292b-1521-43d1-c412-9b3af304ebbe"
      },
      "source": [
        "x_axis = np.arange(0, 11)\n",
        "y_axis = np.array(zoom_revenue[\"Unnamed: 3\"])\n",
        "\n",
        "\n",
        "x_ticks = np.array(zoom_revenue[\"X_Axis\"])\n",
        "\n",
        "plt.figure(figsize=(14,8))\n",
        "plt.xticks(x_axis, x_ticks)\n",
        "plt.plot(x_axis, y_axis, \"o-\")\n",
        "plt.title(\"Zoom's Quarterly revenue \")\n",
        "plt.xlabel(\"Fiscal year\")\n",
        "plt.ylabel(\"Revenue in millions\")\n",
        "plt.show()"
      ],
      "execution_count": 31,
      "outputs": [
        {
          "output_type": "display_data",
          "data": {
            "image/png": "[encoded data removed]",
            "text/plain": [
              "<Figure size 1008x576 with 1 Axes>"
            ]
          },
          "metadata": {
            "tags": [],
            "needs_background": "light"
          }
        }
      ]
    }
  ]
}