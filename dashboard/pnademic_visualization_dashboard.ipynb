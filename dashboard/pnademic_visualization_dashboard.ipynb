{
  "nbformat": 4,
  "nbformat_minor": 0,
  "metadata": {
    "colab": {
      "name": "pnademic_visualization_dashboard.ipynb",
      "provenance": [],
      "authorship_tag": "ABX9TyM5e6DUQVCMJ9UR9skxrGIR",
      "include_colab_link": true
    },
    "kernelspec": {
      "name": "python3",
      "display_name": "Python 3"
    }
  },
  "cells": [
    {
      "cell_type": "markdown",
      "metadata": {
        "id": "view-in-github",
        "colab_type": "text"
      },
      "source": [
        "<a href=\"https://colab.research.google.com/github/SowmyaLR/Statistics-for-ML/blob/pandemic-visualization/dashboard/pnademic_visualization_dashboard.ipynb\" target=\"_parent\"><img src=\"https://colab.research.google.com/assets/colab-badge.svg\" alt=\"Open In Colab\"/></a>"
      ]
    },
    {
      "cell_type": "markdown",
      "metadata": {
        "id": "n1bnE7MA03Cy",
        "colab_type": "text"
      },
      "source": [
        "Import required packages"
      ]
    },
    {
      "cell_type": "code",
      "metadata": {
        "id": "_V0b1_0bqoDB",
        "colab_type": "code",
        "colab": {}
      },
      "source": [
        "import pandas as pd\n",
        "import matplotlib.pyplot as plt"
      ],
      "execution_count": null,
      "outputs": []
    },
    {
      "cell_type": "markdown",
      "metadata": {
        "id": "wLooI-ov06N9",
        "colab_type": "text"
      },
      "source": [
        "Dataset source: [github](https://github.com/RamiKrispin/coronavirus-csv)"
      ]
    },
    {
      "cell_type": "code",
      "metadata": {
        "id": "0h1Bh4lPTZP9",
        "colab_type": "code",
        "colab": {
          "base_uri": "https://localhost:8080/",
          "height": 204
        },
        "outputId": "2e0891db-0f61-4734-f106-d087937d8854"
      },
      "source": [
        "!wget -O 'coronavirus_dataset.csv' https://raw.githubusercontent.com/RamiKrispin/coronavirus-csv/master/coronavirus_dataset.csv"
      ],
      "execution_count": null,
      "outputs": [
        {
          "output_type": "stream",
          "text": [
            "--2020-06-17 02:37:54--  https://raw.githubusercontent.com/RamiKrispin/coronavirus-csv/master/coronavirus_dataset.csv\n",
            "Resolving raw.githubusercontent.com (raw.githubusercontent.com)... 151.101.0.133, 151.101.64.133, 151.101.128.133, ...\n",
            "Connecting to raw.githubusercontent.com (raw.githubusercontent.com)|151.101.0.133|:443... connected.\n",
            "HTTP request sent, awaiting response... 200 OK\n",
            "Length: 5026733 (4.8M) [text/plain]\n",
            "Saving to: ‘coronavirus_dataset.csv’\n",
            "\n",
            "coronavirus_dataset 100%[===================>]   4.79M  13.3MB/s    in 0.4s    \n",
            "\n",
            "2020-06-17 02:37:56 (13.3 MB/s) - ‘coronavirus_dataset.csv’ saved [5026733/5026733]\n",
            "\n"
          ],
          "name": "stdout"
        }
      ]
    },
    {
      "cell_type": "code",
      "metadata": {
        "id": "GW5ghjdDqrDp",
        "colab_type": "code",
        "colab": {}
      },
      "source": [
        "coronavirus_df = pd.read_csv('coronavirus_dataset.csv')"
      ],
      "execution_count": null,
      "outputs": []
    },
    {
      "cell_type": "code",
      "metadata": {
        "id": "SgyS0XP92VUp",
        "colab_type": "code",
        "colab": {
          "base_uri": "https://localhost:8080/",
          "height": 390
        },
        "outputId": "433c4f63-754c-4a09-ac9c-1e87532c9955"
      },
      "source": [
        "coronavirus_df.describe(include=\"all\")"
      ],
      "execution_count": null,
      "outputs": [
        {
          "output_type": "execute_result",
          "data": {
            "text/html": [
              "<div>\n",
              "<style scoped>\n",
              "    .dataframe tbody tr th:only-of-type {\n",
              "        vertical-align: middle;\n",
              "    }\n",
              "\n",
              "    .dataframe tbody tr th {\n",
              "        vertical-align: top;\n",
              "    }\n",
              "\n",
              "    .dataframe thead th {\n",
              "        text-align: right;\n",
              "    }\n",
              "</style>\n",
              "<table border=\"1\" class=\"dataframe\">\n",
              "  <thead>\n",
              "    <tr style=\"text-align: right;\">\n",
              "      <th></th>\n",
              "      <th>Province.State</th>\n",
              "      <th>Country.Region</th>\n",
              "      <th>Lat</th>\n",
              "      <th>Long</th>\n",
              "      <th>date</th>\n",
              "      <th>cases</th>\n",
              "      <th>type</th>\n",
              "    </tr>\n",
              "  </thead>\n",
              "  <tbody>\n",
              "    <tr>\n",
              "      <th>count</th>\n",
              "      <td>26106</td>\n",
              "      <td>89490</td>\n",
              "      <td>89490.000000</td>\n",
              "      <td>89490.000000</td>\n",
              "      <td>89490</td>\n",
              "      <td>89490.000000</td>\n",
              "      <td>89490</td>\n",
              "    </tr>\n",
              "    <tr>\n",
              "      <th>unique</th>\n",
              "      <td>81</td>\n",
              "      <td>188</td>\n",
              "      <td>NaN</td>\n",
              "      <td>NaN</td>\n",
              "      <td>114</td>\n",
              "      <td>NaN</td>\n",
              "      <td>3</td>\n",
              "    </tr>\n",
              "    <tr>\n",
              "      <th>top</th>\n",
              "      <td>Xinjiang</td>\n",
              "      <td>China</td>\n",
              "      <td>NaN</td>\n",
              "      <td>NaN</td>\n",
              "      <td>2020-03-04</td>\n",
              "      <td>NaN</td>\n",
              "      <td>confirmed</td>\n",
              "    </tr>\n",
              "    <tr>\n",
              "      <th>freq</th>\n",
              "      <td>342</td>\n",
              "      <td>11286</td>\n",
              "      <td>NaN</td>\n",
              "      <td>NaN</td>\n",
              "      <td>785</td>\n",
              "      <td>NaN</td>\n",
              "      <td>30324</td>\n",
              "    </tr>\n",
              "    <tr>\n",
              "      <th>mean</th>\n",
              "      <td>NaN</td>\n",
              "      <td>NaN</td>\n",
              "      <td>20.714023</td>\n",
              "      <td>24.353015</td>\n",
              "      <td>NaN</td>\n",
              "      <td>70.761806</td>\n",
              "      <td>NaN</td>\n",
              "    </tr>\n",
              "    <tr>\n",
              "      <th>std</th>\n",
              "      <td>NaN</td>\n",
              "      <td>NaN</td>\n",
              "      <td>24.758009</td>\n",
              "      <td>69.314351</td>\n",
              "      <td>NaN</td>\n",
              "      <td>784.754688</td>\n",
              "      <td>NaN</td>\n",
              "    </tr>\n",
              "    <tr>\n",
              "      <th>min</th>\n",
              "      <td>NaN</td>\n",
              "      <td>NaN</td>\n",
              "      <td>-51.796300</td>\n",
              "      <td>-135.000000</td>\n",
              "      <td>NaN</td>\n",
              "      <td>-10034.000000</td>\n",
              "      <td>NaN</td>\n",
              "    </tr>\n",
              "    <tr>\n",
              "      <th>25%</th>\n",
              "      <td>NaN</td>\n",
              "      <td>NaN</td>\n",
              "      <td>6.611100</td>\n",
              "      <td>-14.452400</td>\n",
              "      <td>NaN</td>\n",
              "      <td>0.000000</td>\n",
              "      <td>NaN</td>\n",
              "    </tr>\n",
              "    <tr>\n",
              "      <th>50%</th>\n",
              "      <td>NaN</td>\n",
              "      <td>NaN</td>\n",
              "      <td>22.300000</td>\n",
              "      <td>21.758700</td>\n",
              "      <td>NaN</td>\n",
              "      <td>0.000000</td>\n",
              "      <td>NaN</td>\n",
              "    </tr>\n",
              "    <tr>\n",
              "      <th>75%</th>\n",
              "      <td>NaN</td>\n",
              "      <td>NaN</td>\n",
              "      <td>40.143100</td>\n",
              "      <td>81.000000</td>\n",
              "      <td>NaN</td>\n",
              "      <td>1.000000</td>\n",
              "      <td>NaN</td>\n",
              "    </tr>\n",
              "    <tr>\n",
              "      <th>max</th>\n",
              "      <td>NaN</td>\n",
              "      <td>NaN</td>\n",
              "      <td>71.706900</td>\n",
              "      <td>178.065000</td>\n",
              "      <td>NaN</td>\n",
              "      <td>36188.000000</td>\n",
              "      <td>NaN</td>\n",
              "    </tr>\n",
              "  </tbody>\n",
              "</table>\n",
              "</div>"
            ],
            "text/plain": [
              "       Province.State Country.Region  ...         cases       type\n",
              "count           26106          89490  ...  89490.000000      89490\n",
              "unique             81            188  ...           NaN          3\n",
              "top          Xinjiang          China  ...           NaN  confirmed\n",
              "freq              342          11286  ...           NaN      30324\n",
              "mean              NaN            NaN  ...     70.761806        NaN\n",
              "std               NaN            NaN  ...    784.754688        NaN\n",
              "min               NaN            NaN  ... -10034.000000        NaN\n",
              "25%               NaN            NaN  ...      0.000000        NaN\n",
              "50%               NaN            NaN  ...      0.000000        NaN\n",
              "75%               NaN            NaN  ...      1.000000        NaN\n",
              "max               NaN            NaN  ...  36188.000000        NaN\n",
              "\n",
              "[11 rows x 7 columns]"
            ]
          },
          "metadata": {
            "tags": []
          },
          "execution_count": 4
        }
      ]
    },
    {
      "cell_type": "code",
      "metadata": {
        "id": "lzq914Aa3Oxc",
        "colab_type": "code",
        "colab": {
          "base_uri": "https://localhost:8080/",
          "height": 255
        },
        "outputId": "06cea092-4c6e-41f5-d6d9-00517123ca0c"
      },
      "source": [
        "coronavirus_df.info()"
      ],
      "execution_count": null,
      "outputs": [
        {
          "output_type": "stream",
          "text": [
            "<class 'pandas.core.frame.DataFrame'>\n",
            "RangeIndex: 89490 entries, 0 to 89489\n",
            "Data columns (total 7 columns):\n",
            " #   Column          Non-Null Count  Dtype  \n",
            "---  ------          --------------  -----  \n",
            " 0   Province.State  26106 non-null  object \n",
            " 1   Country.Region  89490 non-null  object \n",
            " 2   Lat             89490 non-null  float64\n",
            " 3   Long            89490 non-null  float64\n",
            " 4   date            89490 non-null  object \n",
            " 5   cases           89490 non-null  int64  \n",
            " 6   type            89490 non-null  object \n",
            "dtypes: float64(2), int64(1), object(4)\n",
            "memory usage: 4.8+ MB\n"
          ],
          "name": "stdout"
        }
      ]
    },
    {
      "cell_type": "code",
      "metadata": {
        "id": "5TwfyfGF3Sxh",
        "colab_type": "code",
        "colab": {
          "base_uri": "https://localhost:8080/",
          "height": 153
        },
        "outputId": "263e45e7-c85c-4e04-b5df-2dda6ac4cdae"
      },
      "source": [
        "coronavirus_df.isnull().sum()"
      ],
      "execution_count": null,
      "outputs": [
        {
          "output_type": "execute_result",
          "data": {
            "text/plain": [
              "Province.State    63384\n",
              "Country.Region        0\n",
              "Lat                   0\n",
              "Long                  0\n",
              "date                  0\n",
              "cases                 0\n",
              "type                  0\n",
              "dtype: int64"
            ]
          },
          "metadata": {
            "tags": []
          },
          "execution_count": 6
        }
      ]
    },
    {
      "cell_type": "code",
      "metadata": {
        "id": "t9vTpEkA5tRM",
        "colab_type": "code",
        "colab": {}
      },
      "source": [
        "geo = []"
      ],
      "execution_count": null,
      "outputs": []
    },
    {
      "cell_type": "code",
      "metadata": {
        "id": "gg4S0MkF5kRl",
        "colab_type": "code",
        "colab": {}
      },
      "source": [
        "def process_geo_points(row):\n",
        "  geo.append(dict(lat=row['Lat'], lng=row['Long']))\n",
        "  return"
      ],
      "execution_count": null,
      "outputs": []
    },
    {
      "cell_type": "code",
      "metadata": {
        "id": "GdZEGXhH6F_v",
        "colab_type": "code",
        "colab": {
          "base_uri": "https://localhost:8080/",
          "height": 221
        },
        "outputId": "2367aa05-b8c6-4ed9-b892-d2c4a23b2de5"
      },
      "source": [
        "coronavirus_df[['Lat', 'Long']].apply(lambda x: process_geo_points(x), axis=1)"
      ],
      "execution_count": null,
      "outputs": [
        {
          "output_type": "execute_result",
          "data": {
            "text/plain": [
              "0        None\n",
              "1        None\n",
              "2        None\n",
              "3        None\n",
              "4        None\n",
              "         ... \n",
              "89485    None\n",
              "89486    None\n",
              "89487    None\n",
              "89488    None\n",
              "89489    None\n",
              "Length: 89490, dtype: object"
            ]
          },
          "metadata": {
            "tags": []
          },
          "execution_count": 9
        }
      ]
    },
    {
      "cell_type": "markdown",
      "metadata": {
        "id": "CH4wFgWM6hiB",
        "colab_type": "text"
      },
      "source": [
        "# Confirmed cases throughout the world"
      ]
    },
    {
      "cell_type": "code",
      "metadata": {
        "id": "n5GoCJhNIsKv",
        "colab_type": "code",
        "colab": {}
      },
      "source": [
        "confirmed_cases = {}"
      ],
      "execution_count": null,
      "outputs": []
    },
    {
      "cell_type": "code",
      "metadata": {
        "id": "dUA9crDPInra",
        "colab_type": "code",
        "colab": {}
      },
      "source": [
        "def process_confirmed(row):\n",
        "  if row['type'] == 'confirmed':\n",
        "    if row['Country.Region'] in confirmed_cases:\n",
        "      confirmed_cases[row['Country.Region']] += row['cases']\n",
        "    else:\n",
        "      confirmed_cases[row['Country.Region']] = 0\n",
        "      \n",
        "    return"
      ],
      "execution_count": null,
      "outputs": []
    },
    {
      "cell_type": "code",
      "metadata": {
        "id": "DNyqAFNJIfxC",
        "colab_type": "code",
        "colab": {}
      },
      "source": [
        "a = coronavirus_df.apply(lambda x: process_confirmed(x),axis=1)"
      ],
      "execution_count": null,
      "outputs": []
    },
    {
      "cell_type": "code",
      "metadata": {
        "id": "uXqu_b3tKGA3",
        "colab_type": "code",
        "colab": {}
      },
      "source": [
        "top_10 = dict(sorted(confirmed_cases.items(), key=lambda x: x[1], reverse=True)[:11])"
      ],
      "execution_count": null,
      "outputs": []
    },
    {
      "cell_type": "code",
      "metadata": {
        "id": "EGaO5cOAL9tL",
        "colab_type": "code",
        "colab": {}
      },
      "source": [
        "plt.figure(figsize=(12,10))\n",
        "plt.bar(top_10.keys(),top_10.values())"
      ],
      "execution_count": null,
      "outputs": []
    },
    {
      "cell_type": "code",
      "metadata": {
        "id": "R2VDSjUmNMSU",
        "colab_type": "code",
        "colab": {}
      },
      "source": [
        "pd.set_option('display.max_rows',10000)"
      ],
      "execution_count": null,
      "outputs": []
    },
    {
      "cell_type": "code",
      "metadata": {
        "id": "Pd41YjALMp38",
        "colab_type": "code",
        "colab": {}
      },
      "source": [
        "groupby_cll = coronavirus_df.groupby(by=['Country.Region','Lat','Long'])\n",
        "groupby_cll = groupby_cll.apply(lambda x: x[x['type'] == 'confirmed']['cases'].sum())"
      ],
      "execution_count": null,
      "outputs": []
    },
    {
      "cell_type": "code",
      "metadata": {
        "id": "Ysydz2w_PR9M",
        "colab_type": "code",
        "colab": {}
      },
      "source": [
        "cou,lat,long = list(zip(*(groupby_cll.filter(regex='China').index)))"
      ],
      "execution_count": null,
      "outputs": []
    },
    {
      "cell_type": "code",
      "metadata": {
        "id": "g98rVwg4XbME",
        "colab_type": "code",
        "colab": {
          "base_uri": "https://localhost:8080/",
          "height": 34
        },
        "outputId": "a53a413b-5164-49a6-8db2-1e8570d676d8"
      },
      "source": [
        "type(lat)"
      ],
      "execution_count": null,
      "outputs": [
        {
          "output_type": "execute_result",
          "data": {
            "text/plain": [
              "tuple"
            ]
          },
          "metadata": {
            "tags": []
          },
          "execution_count": 66
        }
      ]
    },
    {
      "cell_type": "code",
      "metadata": {
        "id": "_YtF02biTAl9",
        "colab_type": "code",
        "colab": {}
      },
      "source": [
        "list(coronavirus_df['Country.Region'].unique())"
      ],
      "execution_count": null,
      "outputs": []
    }
  ]
}