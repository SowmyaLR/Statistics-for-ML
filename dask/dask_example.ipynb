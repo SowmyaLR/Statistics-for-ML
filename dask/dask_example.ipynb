{
  "nbformat": 4,
  "nbformat_minor": 0,
  "metadata": {
    "colab": {
      "name": "dask_example.ipynb",
      "provenance": [],
      "toc_visible": true,
      "authorship_tag": "ABX9TyNIthW6/BmyvSPJdR/wjQtS",
      "include_colab_link": true
    },
    "kernelspec": {
      "name": "python3",
      "display_name": "Python 3"
    }
  },
  "cells": [
    {
      "cell_type": "markdown",
      "metadata": {
        "id": "view-in-github",
        "colab_type": "text"
      },
      "source": [
        "<a href=\"https://colab.research.google.com/github/SowmyaLR/Statistics-for-ML/blob/master/dask/dask_example.ipynb\" target=\"_parent\"><img src=\"https://colab.research.google.com/assets/colab-badge.svg\" alt=\"Open In Colab\"/></a>"
      ]
    },
    {
      "cell_type": "markdown",
      "metadata": {
        "id": "p-uG6nZc_Oel",
        "colab_type": "text"
      },
      "source": [
        "# Installation setup\n",
        "\n",
        "[GithubIssue6301](https://github.com/dask/dask/issues/6301) based on the instruction given in that issue the following setup is done"
      ]
    },
    {
      "cell_type": "code",
      "metadata": {
        "id": "x6ip-u_Z-Wbm",
        "colab_type": "code",
        "outputId": "f34111f3-3b71-4213-a5c6-67e64ddae867",
        "colab": {
          "base_uri": "https://localhost:8080/",
          "height": 564
        }
      },
      "source": [
        "%pip install \"tornado>=5\" \n",
        "%pip install \"dask[complete]\""
      ],
      "execution_count": 0,
      "outputs": [
        {
          "output_type": "stream",
          "text": [
            "Requirement already satisfied: tornado>=5 in /usr/local/lib/python3.6/dist-packages (6.0.4)\n",
            "Requirement already satisfied: dask[complete] in /usr/local/lib/python3.6/dist-packages (2.12.0)\n",
            "Requirement already satisfied: numpy>=1.13.0; extra == \"complete\" in /usr/local/lib/python3.6/dist-packages (from dask[complete]) (1.18.5)\n",
            "Requirement already satisfied: bokeh>=1.0.0; extra == \"complete\" in /usr/local/lib/python3.6/dist-packages (from dask[complete]) (1.4.0)\n",
            "Requirement already satisfied: partd>=0.3.10; extra == \"complete\" in /usr/local/lib/python3.6/dist-packages (from dask[complete]) (1.1.0)\n",
            "Requirement already satisfied: toolz>=0.7.3; extra == \"complete\" in /usr/local/lib/python3.6/dist-packages (from dask[complete]) (0.10.0)\n",
            "Requirement already satisfied: distributed>=2.0; extra == \"complete\" in /usr/local/lib/python3.6/dist-packages (from dask[complete]) (2.18.0)\n",
            "Requirement already satisfied: cloudpickle>=0.2.1; extra == \"complete\" in /usr/local/lib/python3.6/dist-packages (from dask[complete]) (1.3.0)\n",
            "Requirement already satisfied: PyYaml; extra == \"complete\" in /usr/local/lib/python3.6/dist-packages (from dask[complete]) (3.13)\n",
            "Requirement already satisfied: pandas>=0.23.0; extra == \"complete\" in /usr/local/lib/python3.6/dist-packages (from dask[complete]) (1.0.4)\n",
            "Requirement already satisfied: fsspec>=0.6.0; extra == \"complete\" in /usr/local/lib/python3.6/dist-packages (from dask[complete]) (0.7.4)\n",
            "Requirement already satisfied: python-dateutil>=2.1 in /usr/local/lib/python3.6/dist-packages (from bokeh>=1.0.0; extra == \"complete\"->dask[complete]) (2.8.1)\n",
            "Requirement already satisfied: packaging>=16.8 in /usr/local/lib/python3.6/dist-packages (from bokeh>=1.0.0; extra == \"complete\"->dask[complete]) (20.4)\n",
            "Requirement already satisfied: tornado>=4.3 in /usr/local/lib/python3.6/dist-packages (from bokeh>=1.0.0; extra == \"complete\"->dask[complete]) (6.0.4)\n",
            "Requirement already satisfied: Jinja2>=2.7 in /usr/local/lib/python3.6/dist-packages (from bokeh>=1.0.0; extra == \"complete\"->dask[complete]) (2.11.2)\n",
            "Requirement already satisfied: pillow>=4.0 in /usr/local/lib/python3.6/dist-packages (from bokeh>=1.0.0; extra == \"complete\"->dask[complete]) (7.0.0)\n",
            "Requirement already satisfied: six>=1.5.2 in /usr/local/lib/python3.6/dist-packages (from bokeh>=1.0.0; extra == \"complete\"->dask[complete]) (1.12.0)\n",
            "Requirement already satisfied: locket in /usr/local/lib/python3.6/dist-packages (from partd>=0.3.10; extra == \"complete\"->dask[complete]) (0.2.0)\n",
            "Requirement already satisfied: psutil>=5.0 in /usr/local/lib/python3.6/dist-packages (from distributed>=2.0; extra == \"complete\"->dask[complete]) (5.4.8)\n",
            "Requirement already satisfied: setuptools in /usr/local/lib/python3.6/dist-packages (from distributed>=2.0; extra == \"complete\"->dask[complete]) (47.1.1)\n",
            "Requirement already satisfied: contextvars; python_version < \"3.7\" in /usr/local/lib/python3.6/dist-packages (from distributed>=2.0; extra == \"complete\"->dask[complete]) (2.4)\n",
            "Requirement already satisfied: click>=6.6 in /usr/local/lib/python3.6/dist-packages (from distributed>=2.0; extra == \"complete\"->dask[complete]) (7.1.2)\n",
            "Requirement already satisfied: msgpack>=0.6.0 in /usr/local/lib/python3.6/dist-packages (from distributed>=2.0; extra == \"complete\"->dask[complete]) (1.0.0)\n",
            "Requirement already satisfied: tblib>=1.6.0 in /usr/local/lib/python3.6/dist-packages (from distributed>=2.0; extra == \"complete\"->dask[complete]) (1.6.0)\n",
            "Requirement already satisfied: zict>=0.1.3 in /usr/local/lib/python3.6/dist-packages (from distributed>=2.0; extra == \"complete\"->dask[complete]) (2.0.0)\n",
            "Requirement already satisfied: sortedcontainers!=2.0.0,!=2.0.1 in /usr/local/lib/python3.6/dist-packages (from distributed>=2.0; extra == \"complete\"->dask[complete]) (2.1.0)\n",
            "Requirement already satisfied: pytz>=2017.2 in /usr/local/lib/python3.6/dist-packages (from pandas>=0.23.0; extra == \"complete\"->dask[complete]) (2018.9)\n",
            "Requirement already satisfied: pyparsing>=2.0.2 in /usr/local/lib/python3.6/dist-packages (from packaging>=16.8->bokeh>=1.0.0; extra == \"complete\"->dask[complete]) (2.4.7)\n",
            "Requirement already satisfied: MarkupSafe>=0.23 in /usr/local/lib/python3.6/dist-packages (from Jinja2>=2.7->bokeh>=1.0.0; extra == \"complete\"->dask[complete]) (1.1.1)\n",
            "Requirement already satisfied: immutables>=0.9 in /usr/local/lib/python3.6/dist-packages (from contextvars; python_version < \"3.7\"->distributed>=2.0; extra == \"complete\"->dask[complete]) (0.14)\n",
            "Requirement already satisfied: heapdict in /usr/local/lib/python3.6/dist-packages (from zict>=0.1.3->distributed>=2.0; extra == \"complete\"->dask[complete]) (1.0.1)\n"
          ],
          "name": "stdout"
        }
      ]
    },
    {
      "cell_type": "markdown",
      "metadata": {
        "id": "KvUdAvDtTtQr",
        "colab_type": "text"
      },
      "source": [
        "# Dummy data upload\n",
        "\n",
        "data source: [s3]('https://e-commerce-data.s3.amazonaws.com/E-commerce+Data+(1).csv')"
      ]
    },
    {
      "cell_type": "code",
      "metadata": {
        "id": "jJH-m0T1U5wb",
        "colab_type": "code",
        "colab": {
          "base_uri": "https://localhost:8080/",
          "height": 204
        },
        "outputId": "2c196249-f160-4d9b-b2c0-05c3056e98d2"
      },
      "source": [
        "!wget -O 'dataset.csv' 'https://e-commerce-data.s3.amazonaws.com/E-commerce+Data+(1).csv'"
      ],
      "execution_count": 6,
      "outputs": [
        {
          "output_type": "stream",
          "text": [
            "--2020-06-14 05:43:42--  https://e-commerce-data.s3.amazonaws.com/E-commerce+Data+(1).csv\n",
            "Resolving e-commerce-data.s3.amazonaws.com (e-commerce-data.s3.amazonaws.com)... 52.216.89.164\n",
            "Connecting to e-commerce-data.s3.amazonaws.com (e-commerce-data.s3.amazonaws.com)|52.216.89.164|:443... connected.\n",
            "HTTP request sent, awaiting response... 200 OK\n",
            "Length: 45580638 (43M) [text/csv]\n",
            "Saving to: ‘dataset.csv’\n",
            "\n",
            "dataset.csv         100%[===================>]  43.47M  11.8MB/s    in 3.9s    \n",
            "\n",
            "2020-06-14 05:43:47 (11.2 MB/s) - ‘dataset.csv’ saved [45580638/45580638]\n",
            "\n"
          ],
          "name": "stdout"
        }
      ]
    },
    {
      "cell_type": "markdown",
      "metadata": {
        "id": "9mOS5H8CVErS",
        "colab_type": "text"
      },
      "source": [
        "# Pandas Performance\n",
        "\n",
        "Read the dataset using pd.read_csv()"
      ]
    },
    {
      "cell_type": "code",
      "metadata": {
        "id": "39sFCd0MVKec",
        "colab_type": "code",
        "colab": {
          "base_uri": "https://localhost:8080/",
          "height": 51
        },
        "outputId": "40e15698-8f49-4646-82e9-eba900ec3eea"
      },
      "source": [
        "import pandas as pd\n",
        "%time temp = pd.read_csv('dataset.csv', encoding = 'ISO-8859-1')"
      ],
      "execution_count": 9,
      "outputs": [
        {
          "output_type": "stream",
          "text": [
            "CPU times: user 619 ms, sys: 73.6 ms, total: 692 ms\n",
            "Wall time: 705 ms\n"
          ],
          "name": "stdout"
        }
      ]
    },
    {
      "cell_type": "markdown",
      "metadata": {
        "id": "jf1amcrWVd_8",
        "colab_type": "text"
      },
      "source": [
        "# Dask Setup\n",
        "\n",
        "1. Settin up the dask standalone cluster\n",
        "2. Read using dask dataframe"
      ]
    },
    {
      "cell_type": "markdown",
      "metadata": {
        "id": "s4098RbQ_dJq",
        "colab_type": "text"
      },
      "source": [
        "# Setting up standalone cluster"
      ]
    },
    {
      "cell_type": "code",
      "metadata": {
        "id": "YhT7rniK-4nd",
        "colab_type": "code",
        "outputId": "8ccada58-b7c0-4da1-b849-7952c5497161",
        "colab": {
          "base_uri": "https://localhost:8080/",
          "height": 118
        }
      },
      "source": [
        "from dask.distributed import Client, progress\n",
        "client = Client(processes=False, threads_per_worker=4,\n",
        "                n_workers=1, memory_limit='2GB')\n",
        "client"
      ],
      "execution_count": 0,
      "outputs": [
        {
          "output_type": "execute_result",
          "data": {
            "text/html": [
              "<table style=\"border: 2px solid white;\">\n",
              "<tr>\n",
              "<td style=\"vertical-align: top; border: 0px solid white\">\n",
              "<h3 style=\"text-align: left;\">Client</h3>\n",
              "<ul style=\"text-align: left; list-style: none; margin: 0; padding: 0;\">\n",
              "  <li><b>Scheduler: </b>inproc://172.28.0.2/272/1</li>\n",
              "  <li><b>Dashboard: </b><a href='http://172.28.0.2:8787/status' target='_blank'>http://172.28.0.2:8787/status</a></li>\n",
              "</ul>\n",
              "</td>\n",
              "<td style=\"vertical-align: top; border: 0px solid white\">\n",
              "<h3 style=\"text-align: left;\">Cluster</h3>\n",
              "<ul style=\"text-align: left; list-style:none; margin: 0; padding: 0;\">\n",
              "  <li><b>Workers: </b>1</li>\n",
              "  <li><b>Cores: </b>4</li>\n",
              "  <li><b>Memory: </b>2.00 GB</li>\n",
              "</ul>\n",
              "</td>\n",
              "</tr>\n",
              "</table>"
            ],
            "text/plain": [
              "<Client: 'inproc://172.28.0.2/272/1' processes=1 threads=4, memory=2.00 GB>"
            ]
          },
          "metadata": {
            "tags": []
          },
          "execution_count": 1
        }
      ]
    },
    {
      "cell_type": "markdown",
      "metadata": {
        "id": "HQKR8U7IVm8i",
        "colab_type": "text"
      },
      "source": [
        "# Dask Performance"
      ]
    },
    {
      "cell_type": "code",
      "metadata": {
        "id": "NoDUxBdzVsfx",
        "colab_type": "code",
        "colab": {
          "base_uri": "https://localhost:8080/",
          "height": 51
        },
        "outputId": "171a6722-95e6-443e-ec89-ce592c13436f"
      },
      "source": [
        "import dask.dataframe as dd\n",
        "%time df = dd.read_csv(\"dataset.csv\", encoding = 'ISO-8859-1', blocksize=32e6)"
      ],
      "execution_count": 10,
      "outputs": [
        {
          "output_type": "stream",
          "text": [
            "CPU times: user 18.9 ms, sys: 769 µs, total: 19.6 ms\n",
            "Wall time: 20.3 ms\n"
          ],
          "name": "stdout"
        }
      ]
    }
  ]
}