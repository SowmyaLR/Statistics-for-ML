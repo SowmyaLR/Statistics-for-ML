{
  "nbformat": 4,
  "nbformat_minor": 0,
  "metadata": {
    "colab": {
      "name": "india_under_5_mortality.ipynb",
      "provenance": [],
      "authorship_tag": "ABX9TyM5cFxuQOfEDYzT2hBBLVny",
      "include_colab_link": true
    },
    "kernelspec": {
      "name": "python3",
      "display_name": "Python 3"
    }
  },
  "cells": [
    {
      "cell_type": "markdown",
      "metadata": {
        "id": "view-in-github",
        "colab_type": "text"
      },
      "source": [
        "<a href=\"https://colab.research.google.com/github/SowmyaLR/Statistics-for-ML/blob/pandemic-visualization/u5mr/india/india_under_5_mortality.ipynb\" target=\"_parent\"><img src=\"https://colab.research.google.com/assets/colab-badge.svg\" alt=\"Open In Colab\"/></a>"
      ]
    },
    {
      "cell_type": "code",
      "metadata": {
        "id": "5caP-jBFYRn8",
        "colab_type": "code",
        "colab": {}
      },
      "source": [
        "import pandas as pd\n",
        "import matplotlib.pyplot as plt\n"
      ],
      "execution_count": 1,
      "outputs": []
    },
    {
      "cell_type": "code",
      "metadata": {
        "id": "qI8wo7kwQJFP",
        "colab_type": "code",
        "colab": {}
      },
      "source": [
        "data = pd.read_csv('under_5_mortality.csv')"
      ],
      "execution_count": 2,
      "outputs": []
    },
    {
      "cell_type": "code",
      "metadata": {
        "id": "2OIBZTJJQOcB",
        "colab_type": "code",
        "colab": {
          "base_uri": "https://localhost:8080/",
          "height": 512
        },
        "outputId": "7411c210-0cb5-443c-f68a-79ab54d0d52a"
      },
      "source": [
        "data.describe(include='all')"
      ],
      "execution_count": 5,
      "outputs": [
        {
          "output_type": "execute_result",
          "data": {
            "text/html": [
              "<div>\n",
              "<style scoped>\n",
              "    .dataframe tbody tr th:only-of-type {\n",
              "        vertical-align: middle;\n",
              "    }\n",
              "\n",
              "    .dataframe tbody tr th {\n",
              "        vertical-align: top;\n",
              "    }\n",
              "\n",
              "    .dataframe thead th {\n",
              "        text-align: right;\n",
              "    }\n",
              "</style>\n",
              "<table border=\"1\" class=\"dataframe\">\n",
              "  <thead>\n",
              "    <tr style=\"text-align: right;\">\n",
              "      <th></th>\n",
              "      <th>Model Used</th>\n",
              "      <th>Reference Area</th>\n",
              "      <th>REF_AREA</th>\n",
              "      <th>Indicator</th>\n",
              "      <th>Sex</th>\n",
              "      <th>Series Name</th>\n",
              "      <th>Series Category</th>\n",
              "      <th>Series Method</th>\n",
              "      <th>Series Type</th>\n",
              "      <th>Age Group of Women</th>\n",
              "      <th>Time Since First Birth</th>\n",
              "      <th>Series Year</th>\n",
              "      <th>Observation Status</th>\n",
              "      <th>Interval</th>\n",
              "      <th>Reference Date</th>\n",
              "      <th>Observation value</th>\n",
              "      <th>Standard Error</th>\n",
              "      <th>Unit of Measure</th>\n",
              "      <th>Lower Bound</th>\n",
              "      <th>Upper Bound</th>\n",
              "    </tr>\n",
              "  </thead>\n",
              "  <tbody>\n",
              "    <tr>\n",
              "      <th>count</th>\n",
              "      <td>66</td>\n",
              "      <td>316</td>\n",
              "      <td>316</td>\n",
              "      <td>316</td>\n",
              "      <td>316</td>\n",
              "      <td>316</td>\n",
              "      <td>250</td>\n",
              "      <td>250</td>\n",
              "      <td>250</td>\n",
              "      <td>96</td>\n",
              "      <td>0.0</td>\n",
              "      <td>316</td>\n",
              "      <td>316</td>\n",
              "      <td>220.000000</td>\n",
              "      <td>316.000000</td>\n",
              "      <td>316.000000</td>\n",
              "      <td>84.000000</td>\n",
              "      <td>316</td>\n",
              "      <td>66.000000</td>\n",
              "      <td>66.000000</td>\n",
              "    </tr>\n",
              "    <tr>\n",
              "      <th>unique</th>\n",
              "      <td>1</td>\n",
              "      <td>1</td>\n",
              "      <td>1</td>\n",
              "      <td>1</td>\n",
              "      <td>1</td>\n",
              "      <td>23</td>\n",
              "      <td>4</td>\n",
              "      <td>3</td>\n",
              "      <td>3</td>\n",
              "      <td>6</td>\n",
              "      <td>NaN</td>\n",
              "      <td>19</td>\n",
              "      <td>3</td>\n",
              "      <td>NaN</td>\n",
              "      <td>NaN</td>\n",
              "      <td>NaN</td>\n",
              "      <td>NaN</td>\n",
              "      <td>1</td>\n",
              "      <td>NaN</td>\n",
              "      <td>NaN</td>\n",
              "    </tr>\n",
              "    <tr>\n",
              "      <th>top</th>\n",
              "      <td>B3</td>\n",
              "      <td>India</td>\n",
              "      <td>IND</td>\n",
              "      <td>Under-five mortality rate</td>\n",
              "      <td>Total</td>\n",
              "      <td>UN IGME estimate 2019</td>\n",
              "      <td>DHS</td>\n",
              "      <td>Survey/Census with Summary Birth Histories</td>\n",
              "      <td>Indirect</td>\n",
              "      <td>35 to 39 years old</td>\n",
              "      <td>NaN</td>\n",
              "      <td>2019</td>\n",
              "      <td>Included in IGME</td>\n",
              "      <td>NaN</td>\n",
              "      <td>NaN</td>\n",
              "      <td>NaN</td>\n",
              "      <td>NaN</td>\n",
              "      <td>Deaths per 1000 live births</td>\n",
              "      <td>NaN</td>\n",
              "      <td>NaN</td>\n",
              "    </tr>\n",
              "    <tr>\n",
              "      <th>freq</th>\n",
              "      <td>66</td>\n",
              "      <td>316</td>\n",
              "      <td>316</td>\n",
              "      <td>316</td>\n",
              "      <td>316</td>\n",
              "      <td>66</td>\n",
              "      <td>101</td>\n",
              "      <td>96</td>\n",
              "      <td>96</td>\n",
              "      <td>18</td>\n",
              "      <td>NaN</td>\n",
              "      <td>66</td>\n",
              "      <td>148</td>\n",
              "      <td>NaN</td>\n",
              "      <td>NaN</td>\n",
              "      <td>NaN</td>\n",
              "      <td>NaN</td>\n",
              "      <td>316</td>\n",
              "      <td>NaN</td>\n",
              "      <td>NaN</td>\n",
              "    </tr>\n",
              "    <tr>\n",
              "      <th>mean</th>\n",
              "      <td>NaN</td>\n",
              "      <td>NaN</td>\n",
              "      <td>NaN</td>\n",
              "      <td>NaN</td>\n",
              "      <td>NaN</td>\n",
              "      <td>NaN</td>\n",
              "      <td>NaN</td>\n",
              "      <td>NaN</td>\n",
              "      <td>NaN</td>\n",
              "      <td>NaN</td>\n",
              "      <td>NaN</td>\n",
              "      <td>NaN</td>\n",
              "      <td>NaN</td>\n",
              "      <td>1.054545</td>\n",
              "      <td>1981.667722</td>\n",
              "      <td>150.410069</td>\n",
              "      <td>4.707668</td>\n",
              "      <td>NaN</td>\n",
              "      <td>139.519290</td>\n",
              "      <td>158.599123</td>\n",
              "    </tr>\n",
              "    <tr>\n",
              "      <th>std</th>\n",
              "      <td>NaN</td>\n",
              "      <td>NaN</td>\n",
              "      <td>NaN</td>\n",
              "      <td>NaN</td>\n",
              "      <td>NaN</td>\n",
              "      <td>NaN</td>\n",
              "      <td>NaN</td>\n",
              "      <td>NaN</td>\n",
              "      <td>NaN</td>\n",
              "      <td>NaN</td>\n",
              "      <td>NaN</td>\n",
              "      <td>NaN</td>\n",
              "      <td>NaN</td>\n",
              "      <td>0.227609</td>\n",
              "      <td>22.898988</td>\n",
              "      <td>76.048745</td>\n",
              "      <td>2.022775</td>\n",
              "      <td>NaN</td>\n",
              "      <td>64.589321</td>\n",
              "      <td>80.365383</td>\n",
              "    </tr>\n",
              "    <tr>\n",
              "      <th>min</th>\n",
              "      <td>NaN</td>\n",
              "      <td>NaN</td>\n",
              "      <td>NaN</td>\n",
              "      <td>NaN</td>\n",
              "      <td>NaN</td>\n",
              "      <td>NaN</td>\n",
              "      <td>NaN</td>\n",
              "      <td>NaN</td>\n",
              "      <td>NaN</td>\n",
              "      <td>NaN</td>\n",
              "      <td>NaN</td>\n",
              "      <td>NaN</td>\n",
              "      <td>NaN</td>\n",
              "      <td>1.000000</td>\n",
              "      <td>1911.500000</td>\n",
              "      <td>36.574240</td>\n",
              "      <td>1.274445</td>\n",
              "      <td>NaN</td>\n",
              "      <td>32.667842</td>\n",
              "      <td>40.386634</td>\n",
              "    </tr>\n",
              "    <tr>\n",
              "      <th>25%</th>\n",
              "      <td>NaN</td>\n",
              "      <td>NaN</td>\n",
              "      <td>NaN</td>\n",
              "      <td>NaN</td>\n",
              "      <td>NaN</td>\n",
              "      <td>NaN</td>\n",
              "      <td>NaN</td>\n",
              "      <td>NaN</td>\n",
              "      <td>NaN</td>\n",
              "      <td>NaN</td>\n",
              "      <td>NaN</td>\n",
              "      <td>NaN</td>\n",
              "      <td>NaN</td>\n",
              "      <td>1.000000</td>\n",
              "      <td>1972.500000</td>\n",
              "      <td>98.375000</td>\n",
              "      <td>3.575000</td>\n",
              "      <td>NaN</td>\n",
              "      <td>82.138936</td>\n",
              "      <td>88.802604</td>\n",
              "    </tr>\n",
              "    <tr>\n",
              "      <th>50%</th>\n",
              "      <td>NaN</td>\n",
              "      <td>NaN</td>\n",
              "      <td>NaN</td>\n",
              "      <td>NaN</td>\n",
              "      <td>NaN</td>\n",
              "      <td>NaN</td>\n",
              "      <td>NaN</td>\n",
              "      <td>NaN</td>\n",
              "      <td>NaN</td>\n",
              "      <td>NaN</td>\n",
              "      <td>NaN</td>\n",
              "      <td>NaN</td>\n",
              "      <td>NaN</td>\n",
              "      <td>1.000000</td>\n",
              "      <td>1986.500000</td>\n",
              "      <td>131.200000</td>\n",
              "      <td>4.400000</td>\n",
              "      <td>NaN</td>\n",
              "      <td>138.625629</td>\n",
              "      <td>148.885896</td>\n",
              "    </tr>\n",
              "    <tr>\n",
              "      <th>75%</th>\n",
              "      <td>NaN</td>\n",
              "      <td>NaN</td>\n",
              "      <td>NaN</td>\n",
              "      <td>NaN</td>\n",
              "      <td>NaN</td>\n",
              "      <td>NaN</td>\n",
              "      <td>NaN</td>\n",
              "      <td>NaN</td>\n",
              "      <td>NaN</td>\n",
              "      <td>NaN</td>\n",
              "      <td>NaN</td>\n",
              "      <td>NaN</td>\n",
              "      <td>NaN</td>\n",
              "      <td>1.000000</td>\n",
              "      <td>1996.650000</td>\n",
              "      <td>186.575000</td>\n",
              "      <td>5.950000</td>\n",
              "      <td>NaN</td>\n",
              "      <td>205.573174</td>\n",
              "      <td>226.151563</td>\n",
              "    </tr>\n",
              "    <tr>\n",
              "      <th>max</th>\n",
              "      <td>NaN</td>\n",
              "      <td>NaN</td>\n",
              "      <td>NaN</td>\n",
              "      <td>NaN</td>\n",
              "      <td>NaN</td>\n",
              "      <td>NaN</td>\n",
              "      <td>NaN</td>\n",
              "      <td>NaN</td>\n",
              "      <td>NaN</td>\n",
              "      <td>NaN</td>\n",
              "      <td>NaN</td>\n",
              "      <td>NaN</td>\n",
              "      <td>NaN</td>\n",
              "      <td>2.000000</td>\n",
              "      <td>2018.500000</td>\n",
              "      <td>470.600000</td>\n",
              "      <td>10.400000</td>\n",
              "      <td>NaN</td>\n",
              "      <td>226.823029</td>\n",
              "      <td>322.132523</td>\n",
              "    </tr>\n",
              "  </tbody>\n",
              "</table>\n",
              "</div>"
            ],
            "text/plain": [
              "       Model Used Reference Area  ... Lower Bound Upper Bound\n",
              "count          66            316  ...   66.000000   66.000000\n",
              "unique          1              1  ...         NaN         NaN\n",
              "top            B3          India  ...         NaN         NaN\n",
              "freq           66            316  ...         NaN         NaN\n",
              "mean          NaN            NaN  ...  139.519290  158.599123\n",
              "std           NaN            NaN  ...   64.589321   80.365383\n",
              "min           NaN            NaN  ...   32.667842   40.386634\n",
              "25%           NaN            NaN  ...   82.138936   88.802604\n",
              "50%           NaN            NaN  ...  138.625629  148.885896\n",
              "75%           NaN            NaN  ...  205.573174  226.151563\n",
              "max           NaN            NaN  ...  226.823029  322.132523\n",
              "\n",
              "[11 rows x 20 columns]"
            ]
          },
          "metadata": {
            "tags": []
          },
          "execution_count": 5
        }
      ]
    },
    {
      "cell_type": "code",
      "metadata": {
        "id": "TZC0el5vQ1jD",
        "colab_type": "code",
        "colab": {
          "base_uri": "https://localhost:8080/",
          "height": 34
        },
        "outputId": "c7dac2c3-3fa5-4d15-d82f-befedbc0a687"
      },
      "source": [
        "len(data)"
      ],
      "execution_count": 8,
      "outputs": [
        {
          "output_type": "execute_result",
          "data": {
            "text/plain": [
              "316"
            ]
          },
          "metadata": {
            "tags": []
          },
          "execution_count": 8
        }
      ]
    },
    {
      "cell_type": "code",
      "metadata": {
        "id": "FwFktfboSLoD",
        "colab_type": "code",
        "colab": {
          "base_uri": "https://localhost:8080/",
          "height": 119
        },
        "outputId": "df361353-1565-4e2b-f527-2849f47099ec"
      },
      "source": [
        "data.columns"
      ],
      "execution_count": 11,
      "outputs": [
        {
          "output_type": "execute_result",
          "data": {
            "text/plain": [
              "Index(['Model Used', 'Reference Area', 'REF_AREA', 'Indicator', 'Sex',\n",
              "       'Series Name', 'Series Category', 'Series Method', 'Series Type',\n",
              "       'Age Group of Women', 'Time Since First Birth', 'Series Year',\n",
              "       'Observation Status', 'Interval', 'Reference Date', 'Observation value',\n",
              "       'Standard Error', 'Unit of Measure', 'Lower Bound', 'Upper Bound'],\n",
              "      dtype='object')"
            ]
          },
          "metadata": {
            "tags": []
          },
          "execution_count": 11
        }
      ]
    },
    {
      "cell_type": "code",
      "metadata": {
        "id": "t86R9RBrSoGk",
        "colab_type": "code",
        "colab": {
          "base_uri": "https://localhost:8080/",
          "height": 68
        },
        "outputId": "c2d3b82f-0752-4f60-ab96-0b35349dc506"
      },
      "source": [
        "data['Series Year'].unique()"
      ],
      "execution_count": 18,
      "outputs": [
        {
          "output_type": "execute_result",
          "data": {
            "text/plain": [
              "array(['2019', '2011', '2001', '1991', '1981', '2017', '2015-2016',\n",
              "       '2008', '2005-2006', '2004', '1999', '1998-1999', '1992-1993',\n",
              "       '1980', '1979', '1972', '1970', '1966', '1947'], dtype=object)"
            ]
          },
          "metadata": {
            "tags": []
          },
          "execution_count": 18
        }
      ]
    },
    {
      "cell_type": "code",
      "metadata": {
        "id": "wmWIKWalR5jG",
        "colab_type": "code",
        "colab": {}
      },
      "source": [
        "drop_data = data[['Lower Bound', 'Upper Bound']].dropna()"
      ],
      "execution_count": 12,
      "outputs": []
    },
    {
      "cell_type": "code",
      "metadata": {
        "id": "FwCjpbIwR9gV",
        "colab_type": "code",
        "colab": {
          "base_uri": "https://localhost:8080/",
          "height": 34
        },
        "outputId": "841ee7ad-19f7-4884-8da7-0074fe95ca1e"
      },
      "source": [
        "drop_data.columns"
      ],
      "execution_count": 14,
      "outputs": [
        {
          "output_type": "execute_result",
          "data": {
            "text/plain": [
              "Index(['Lower Bound', 'Upper Bound'], dtype='object')"
            ]
          },
          "metadata": {
            "tags": []
          },
          "execution_count": 14
        }
      ]
    },
    {
      "cell_type": "code",
      "metadata": {
        "id": "fYRJAS28ebbg",
        "colab_type": "code",
        "colab": {}
      },
      "source": [
        "def process_year(cell):\n",
        "  value = cell.split('-')\n",
        "  return int(value[0])"
      ],
      "execution_count": 19,
      "outputs": []
    },
    {
      "cell_type": "code",
      "metadata": {
        "id": "GAazu2KDelLB",
        "colab_type": "code",
        "colab": {}
      },
      "source": [
        "data['Series Year'] = data['Series Year'].apply(lambda x: process_year(x))"
      ],
      "execution_count": 22,
      "outputs": []
    },
    {
      "cell_type": "code",
      "metadata": {
        "id": "lCmILSa6fLQt",
        "colab_type": "code",
        "colab": {}
      },
      "source": [
        "sct_plot = data[['Series Year', 'Observation value']].groupby(['Series Year'])['Observation value'].agg('mean')"
      ],
      "execution_count": 42,
      "outputs": []
    },
    {
      "cell_type": "code",
      "metadata": {
        "id": "Wnuhuaq6gZnI",
        "colab_type": "code",
        "colab": {}
      },
      "source": [
        "sct_plot = sct_plot.reset_index()"
      ],
      "execution_count": 43,
      "outputs": []
    },
    {
      "cell_type": "code",
      "metadata": {
        "id": "GYCe8wTbiGzJ",
        "colab_type": "code",
        "colab": {
          "base_uri": "https://localhost:8080/",
          "height": 296
        },
        "outputId": "810ce837-47ff-4478-af74-958bea72f092"
      },
      "source": [
        "sct_plot.plot(kind='scatter', x='Series Year', y='Observation value')"
      ],
      "execution_count": 45,
      "outputs": [
        {
          "output_type": "execute_result",
          "data": {
            "text/plain": [
              "<matplotlib.axes._subplots.AxesSubplot at 0x7f2db395ce80>"
            ]
          },
          "metadata": {
            "tags": []
          },
          "execution_count": 45
        },
        {
          "output_type": "display_data",
          "data": {
            "image/png": "[encoded data removed]",
            "text/plain": [
              "<Figure size 432x288 with 1 Axes>"
            ]
          },
          "metadata": {
            "tags": [],
            "needs_background": "light"
          }
        }
      ]
    },
    {
      "cell_type": "code",
      "metadata": {
        "id": "0qkH2WaGiwIE",
        "colab_type": "code",
        "colab": {
          "base_uri": "https://localhost:8080/",
          "height": 71
        },
        "outputId": "5f1deca3-f058-46c9-e694-785c4a069a49"
      },
      "source": [
        "import seaborn as sns"
      ],
      "execution_count": 46,
      "outputs": [
        {
          "output_type": "stream",
          "text": [
            "/usr/local/lib/python3.6/dist-packages/statsmodels/tools/_testing.py:19: FutureWarning: pandas.util.testing is deprecated. Use the functions in the public API at pandas.testing instead.\n",
            "  import pandas.util.testing as tm\n"
          ],
          "name": "stderr"
        }
      ]
    },
    {
      "cell_type": "code",
      "metadata": {
        "id": "1AFNgCJliyBj",
        "colab_type": "code",
        "colab": {
          "base_uri": "https://localhost:8080/",
          "height": 758
        },
        "outputId": "f9e260c7-7638-4b8d-9eaf-e785aa955ec2"
      },
      "source": [
        "ax = sns.lmplot(x='Series Year', y='Observation value', data=sct_plot,height=10)\n",
        "ax.set(xlabel=\"Year\", ylabel = \"Value\", title='Under 5 mortality rate in India')"
      ],
      "execution_count": 64,
      "outputs": [
        {
          "output_type": "execute_result",
          "data": {
            "text/plain": [
              "<seaborn.axisgrid.FacetGrid at 0x7f2da5a8f6a0>"
            ]
          },
          "metadata": {
            "tags": []
          },
          "execution_count": 64
        },
        {
          "output_type": "display_data",
          "data": {
            "image/png": "[encoded data removed]",
            "text/plain": [
              "<Figure size 720x720 with 1 Axes>"
            ]
          },
          "metadata": {
            "tags": []
          }
        }
      ]
    },
    {
      "cell_type": "code",
      "metadata": {
        "id": "hnIWSXXlj0LN",
        "colab_type": "code",
        "colab": {
          "base_uri": "https://localhost:8080/",
          "height": 617
        },
        "outputId": "6f7935bc-8316-4507-a0ac-710ade700f22"
      },
      "source": [
        "sns.catplot(data=sct_plot, x='Series Year', y='Observation value', \n",
        "    height=8.27, aspect=11.7/8.27)"
      ],
      "execution_count": 57,
      "outputs": [
        {
          "output_type": "execute_result",
          "data": {
            "text/plain": [
              "<seaborn.axisgrid.FacetGrid at 0x7f2da5d72550>"
            ]
          },
          "metadata": {
            "tags": []
          },
          "execution_count": 57
        },
        {
          "output_type": "display_data",
          "data": {
            "image/png": "[encoded data removed]",
            "text/plain": [
              "<Figure size 842.4x595.44 with 1 Axes>"
            ]
          },
          "metadata": {
            "tags": []
          }
        }
      ]
    }
  ]
}